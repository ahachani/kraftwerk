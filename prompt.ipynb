{
 "cells": [
  {
   "cell_type": "markdown",
   "metadata": {},
   "source": [
    "### Will a Customer Accept the Coupon?\n",
    "\n",
    "**Context**\n",
    "\n",
    "Imagine driving through town and a coupon is delivered to your cell phone for a restaraunt near where you are driving. Would you accept that coupon and take a short detour to the restaraunt? Would you accept the coupon but use it on a sunbsequent trip? Would you ignore the coupon entirely? What if the coupon was for a bar instead of a restaraunt? What about a coffee house? Would you accept a bar coupon with a minor passenger in the car? What about if it was just you and your partner in the car? Would weather impact the rate of acceptance? What about the time of day?\n",
    "\n",
    "Obviously, proximity to the business is a factor on whether the coupon is delivered to the driver or not, but what are the factors that determine whether a driver accepts the coupon once it is delivered to them? How would you determine whether a driver is likely to accept a coupon?\n",
    "\n",
    "**Overview**\n",
    "\n",
    "The goal of this project is to use what you know about visualizations and probability distributions to distinguish between customers who accepted a driving coupon versus those that did not.\n",
    "\n",
    "**Data**\n",
    "\n",
    "This data comes to us from the UCI Machine Learning repository and was collected via a survey on Amazon Mechanical Turk. The survey describes different driving scenarios including the destination, current time, weather, passenger, etc., and then ask the person whether he will accept the coupon if he is the driver. Answers that the user will drive there ‘right away’ or ‘later before the coupon expires’ are labeled as ‘Y = 1’ and answers ‘no, I do not want the coupon’ are labeled as ‘Y = 0’.  There are five different types of coupons -- less expensive restaurants (under \\\\$20), coffee houses, carry out & take away, bar, and more expensive restaurants (\\\\$20 - \\\\$50). "
   ]
  },
  {
   "cell_type": "markdown",
   "metadata": {},
   "source": [
    "**Deliverables**\n",
    "\n",
    "Your final product should be a brief report that highlights the differences between customers who did and did not accept the coupons.  To explore the data you will utilize your knowledge of plotting, statistical summaries, and visualization using Python. You will publish your findings in a public facing github repository as your first portfolio piece. \n",
    "\n",
    "\n",
    "\n"
   ]
  },
  {
   "cell_type": "markdown",
   "metadata": {},
   "source": [
    "### Data Description\n",
    "Keep in mind that these values mentioned below are average values.\n",
    "\n",
    "The attributes of this data set include:\n",
    "1. User attributes\n",
    "    -  Gender: male, female\n",
    "    -  Age: below 21, 21 to 25, 26 to 30, etc.\n",
    "    -  Marital Status: single, married partner, unmarried partner, or widowed\n",
    "    -  Number of children: 0, 1, or more than 1\n",
    "    -  Education: high school, bachelors degree, associates degree, or graduate degree\n",
    "    -  Occupation: architecture & engineering, business & financial, etc.\n",
    "    -  Annual income: less than \\\\$12500, \\\\$12500 - \\\\$24999, \\\\$25000 - \\\\$37499, etc.\n",
    "    -  Number of times that he/she goes to a bar: 0, less than 1, 1 to 3, 4 to 8 or greater than 8\n",
    "    -  Number of times that he/she buys takeaway food: 0, less than 1, 1 to 3, 4 to 8 or greater\n",
    "    than 8\n",
    "    -  Number of times that he/she goes to a coffee house: 0, less than 1, 1 to 3, 4 to 8 or\n",
    "    greater than 8\n",
    "    -  Number of times that he/she eats at a restaurant with average expense less than \\\\$20 per\n",
    "    person: 0, less than 1, 1 to 3, 4 to 8 or greater than 8\n",
    "    -  Number of times that he/she goes to a bar: 0, less than 1, 1 to 3, 4 to 8 or greater than 8\n",
    "    \n",
    "\n",
    "2. Contextual attributes\n",
    "    - Driving destination: home, work, or no urgent destination\n",
    "    - Location of user, coupon and destination: we provide a map to show the geographical\n",
    "    location of the user, destination, and the venue, and we mark the distance between each\n",
    "    two places with time of driving. The user can see whether the venue is in the same\n",
    "    direction as the destination.\n",
    "    - Weather: sunny, rainy, or snowy\n",
    "    - Temperature: 30F, 55F, or 80F\n",
    "    - Time: 10AM, 2PM, or 6PM\n",
    "    - Passenger: alone, partner, kid(s), or friend(s)\n",
    "\n",
    "\n",
    "3. Coupon attributes\n",
    "    - time before it expires: 2 hours or one day"
   ]
  },
  {
   "cell_type": "code",
   "execution_count": 180,
   "metadata": {},
   "outputs": [],
   "source": [
    "import matplotlib.pyplot as plt\n",
    "import seaborn as sns\n",
    "import pandas as pd\n",
    "import numpy as np"
   ]
  },
  {
   "cell_type": "markdown",
   "metadata": {},
   "source": [
    "### Problems\n",
    "\n",
    "Use the prompts below to get started with your data analysis.  \n",
    "\n",
    "1. Read in the `coupons.csv` file.\n",
    "\n",
    "\n"
   ]
  },
  {
   "cell_type": "code",
   "execution_count": 181,
   "metadata": {},
   "outputs": [],
   "source": [
    "data = pd.read_csv('data/coupons.csv')"
   ]
  },
  {
   "cell_type": "code",
   "execution_count": 182,
   "metadata": {},
   "outputs": [
    {
     "data": {
      "text/html": [
       "<div>\n",
       "<style scoped>\n",
       "    .dataframe tbody tr th:only-of-type {\n",
       "        vertical-align: middle;\n",
       "    }\n",
       "\n",
       "    .dataframe tbody tr th {\n",
       "        vertical-align: top;\n",
       "    }\n",
       "\n",
       "    .dataframe thead th {\n",
       "        text-align: right;\n",
       "    }\n",
       "</style>\n",
       "<table border=\"1\" class=\"dataframe\">\n",
       "  <thead>\n",
       "    <tr style=\"text-align: right;\">\n",
       "      <th></th>\n",
       "      <th>destination</th>\n",
       "      <th>passanger</th>\n",
       "      <th>weather</th>\n",
       "      <th>temperature</th>\n",
       "      <th>time</th>\n",
       "      <th>coupon</th>\n",
       "      <th>expiration</th>\n",
       "      <th>gender</th>\n",
       "      <th>age</th>\n",
       "      <th>maritalStatus</th>\n",
       "      <th>...</th>\n",
       "      <th>CoffeeHouse</th>\n",
       "      <th>CarryAway</th>\n",
       "      <th>RestaurantLessThan20</th>\n",
       "      <th>Restaurant20To50</th>\n",
       "      <th>toCoupon_GEQ5min</th>\n",
       "      <th>toCoupon_GEQ15min</th>\n",
       "      <th>toCoupon_GEQ25min</th>\n",
       "      <th>direction_same</th>\n",
       "      <th>direction_opp</th>\n",
       "      <th>Y</th>\n",
       "    </tr>\n",
       "  </thead>\n",
       "  <tbody>\n",
       "    <tr>\n",
       "      <th>0</th>\n",
       "      <td>No Urgent Place</td>\n",
       "      <td>Alone</td>\n",
       "      <td>Sunny</td>\n",
       "      <td>55</td>\n",
       "      <td>2PM</td>\n",
       "      <td>Restaurant(&lt;20)</td>\n",
       "      <td>1d</td>\n",
       "      <td>Female</td>\n",
       "      <td>21</td>\n",
       "      <td>Unmarried partner</td>\n",
       "      <td>...</td>\n",
       "      <td>never</td>\n",
       "      <td>NaN</td>\n",
       "      <td>4~8</td>\n",
       "      <td>1~3</td>\n",
       "      <td>1</td>\n",
       "      <td>0</td>\n",
       "      <td>0</td>\n",
       "      <td>0</td>\n",
       "      <td>1</td>\n",
       "      <td>1</td>\n",
       "    </tr>\n",
       "    <tr>\n",
       "      <th>1</th>\n",
       "      <td>No Urgent Place</td>\n",
       "      <td>Friend(s)</td>\n",
       "      <td>Sunny</td>\n",
       "      <td>80</td>\n",
       "      <td>10AM</td>\n",
       "      <td>Coffee House</td>\n",
       "      <td>2h</td>\n",
       "      <td>Female</td>\n",
       "      <td>21</td>\n",
       "      <td>Unmarried partner</td>\n",
       "      <td>...</td>\n",
       "      <td>never</td>\n",
       "      <td>NaN</td>\n",
       "      <td>4~8</td>\n",
       "      <td>1~3</td>\n",
       "      <td>1</td>\n",
       "      <td>0</td>\n",
       "      <td>0</td>\n",
       "      <td>0</td>\n",
       "      <td>1</td>\n",
       "      <td>0</td>\n",
       "    </tr>\n",
       "    <tr>\n",
       "      <th>2</th>\n",
       "      <td>No Urgent Place</td>\n",
       "      <td>Friend(s)</td>\n",
       "      <td>Sunny</td>\n",
       "      <td>80</td>\n",
       "      <td>10AM</td>\n",
       "      <td>Carry out &amp; Take away</td>\n",
       "      <td>2h</td>\n",
       "      <td>Female</td>\n",
       "      <td>21</td>\n",
       "      <td>Unmarried partner</td>\n",
       "      <td>...</td>\n",
       "      <td>never</td>\n",
       "      <td>NaN</td>\n",
       "      <td>4~8</td>\n",
       "      <td>1~3</td>\n",
       "      <td>1</td>\n",
       "      <td>1</td>\n",
       "      <td>0</td>\n",
       "      <td>0</td>\n",
       "      <td>1</td>\n",
       "      <td>1</td>\n",
       "    </tr>\n",
       "    <tr>\n",
       "      <th>3</th>\n",
       "      <td>No Urgent Place</td>\n",
       "      <td>Friend(s)</td>\n",
       "      <td>Sunny</td>\n",
       "      <td>80</td>\n",
       "      <td>2PM</td>\n",
       "      <td>Coffee House</td>\n",
       "      <td>2h</td>\n",
       "      <td>Female</td>\n",
       "      <td>21</td>\n",
       "      <td>Unmarried partner</td>\n",
       "      <td>...</td>\n",
       "      <td>never</td>\n",
       "      <td>NaN</td>\n",
       "      <td>4~8</td>\n",
       "      <td>1~3</td>\n",
       "      <td>1</td>\n",
       "      <td>1</td>\n",
       "      <td>0</td>\n",
       "      <td>0</td>\n",
       "      <td>1</td>\n",
       "      <td>0</td>\n",
       "    </tr>\n",
       "    <tr>\n",
       "      <th>4</th>\n",
       "      <td>No Urgent Place</td>\n",
       "      <td>Friend(s)</td>\n",
       "      <td>Sunny</td>\n",
       "      <td>80</td>\n",
       "      <td>2PM</td>\n",
       "      <td>Coffee House</td>\n",
       "      <td>1d</td>\n",
       "      <td>Female</td>\n",
       "      <td>21</td>\n",
       "      <td>Unmarried partner</td>\n",
       "      <td>...</td>\n",
       "      <td>never</td>\n",
       "      <td>NaN</td>\n",
       "      <td>4~8</td>\n",
       "      <td>1~3</td>\n",
       "      <td>1</td>\n",
       "      <td>1</td>\n",
       "      <td>0</td>\n",
       "      <td>0</td>\n",
       "      <td>1</td>\n",
       "      <td>0</td>\n",
       "    </tr>\n",
       "  </tbody>\n",
       "</table>\n",
       "<p>5 rows × 26 columns</p>\n",
       "</div>"
      ],
      "text/plain": [
       "       destination  passanger weather  temperature  time  \\\n",
       "0  No Urgent Place      Alone   Sunny           55   2PM   \n",
       "1  No Urgent Place  Friend(s)   Sunny           80  10AM   \n",
       "2  No Urgent Place  Friend(s)   Sunny           80  10AM   \n",
       "3  No Urgent Place  Friend(s)   Sunny           80   2PM   \n",
       "4  No Urgent Place  Friend(s)   Sunny           80   2PM   \n",
       "\n",
       "                  coupon expiration  gender age      maritalStatus  ...  \\\n",
       "0        Restaurant(<20)         1d  Female  21  Unmarried partner  ...   \n",
       "1           Coffee House         2h  Female  21  Unmarried partner  ...   \n",
       "2  Carry out & Take away         2h  Female  21  Unmarried partner  ...   \n",
       "3           Coffee House         2h  Female  21  Unmarried partner  ...   \n",
       "4           Coffee House         1d  Female  21  Unmarried partner  ...   \n",
       "\n",
       "   CoffeeHouse CarryAway RestaurantLessThan20 Restaurant20To50  \\\n",
       "0        never       NaN                  4~8              1~3   \n",
       "1        never       NaN                  4~8              1~3   \n",
       "2        never       NaN                  4~8              1~3   \n",
       "3        never       NaN                  4~8              1~3   \n",
       "4        never       NaN                  4~8              1~3   \n",
       "\n",
       "  toCoupon_GEQ5min toCoupon_GEQ15min toCoupon_GEQ25min direction_same  \\\n",
       "0                1                 0                 0              0   \n",
       "1                1                 0                 0              0   \n",
       "2                1                 1                 0              0   \n",
       "3                1                 1                 0              0   \n",
       "4                1                 1                 0              0   \n",
       "\n",
       "  direction_opp  Y  \n",
       "0             1  1  \n",
       "1             1  0  \n",
       "2             1  1  \n",
       "3             1  0  \n",
       "4             1  0  \n",
       "\n",
       "[5 rows x 26 columns]"
      ]
     },
     "execution_count": 182,
     "metadata": {},
     "output_type": "execute_result"
    }
   ],
   "source": [
    "data.head()"
   ]
  },
  {
   "cell_type": "code",
   "execution_count": 183,
   "metadata": {},
   "outputs": [
    {
     "data": {
      "text/plain": [
       "(12684, 26)"
      ]
     },
     "execution_count": 183,
     "metadata": {},
     "output_type": "execute_result"
    }
   ],
   "source": [
    "data.shape"
   ]
  },
  {
   "cell_type": "code",
   "execution_count": 184,
   "metadata": {},
   "outputs": [
    {
     "name": "stdout",
     "output_type": "stream",
     "text": [
      "<class 'pandas.core.frame.DataFrame'>\n",
      "RangeIndex: 12684 entries, 0 to 12683\n",
      "Data columns (total 26 columns):\n",
      " #   Column                Non-Null Count  Dtype \n",
      "---  ------                --------------  ----- \n",
      " 0   destination           12684 non-null  object\n",
      " 1   passanger             12684 non-null  object\n",
      " 2   weather               12684 non-null  object\n",
      " 3   temperature           12684 non-null  int64 \n",
      " 4   time                  12684 non-null  object\n",
      " 5   coupon                12684 non-null  object\n",
      " 6   expiration            12684 non-null  object\n",
      " 7   gender                12684 non-null  object\n",
      " 8   age                   12684 non-null  object\n",
      " 9   maritalStatus         12684 non-null  object\n",
      " 10  has_children          12684 non-null  int64 \n",
      " 11  education             12684 non-null  object\n",
      " 12  occupation            12684 non-null  object\n",
      " 13  income                12684 non-null  object\n",
      " 14  car                   108 non-null    object\n",
      " 15  Bar                   12577 non-null  object\n",
      " 16  CoffeeHouse           12467 non-null  object\n",
      " 17  CarryAway             12533 non-null  object\n",
      " 18  RestaurantLessThan20  12554 non-null  object\n",
      " 19  Restaurant20To50      12495 non-null  object\n",
      " 20  toCoupon_GEQ5min      12684 non-null  int64 \n",
      " 21  toCoupon_GEQ15min     12684 non-null  int64 \n",
      " 22  toCoupon_GEQ25min     12684 non-null  int64 \n",
      " 23  direction_same        12684 non-null  int64 \n",
      " 24  direction_opp         12684 non-null  int64 \n",
      " 25  Y                     12684 non-null  int64 \n",
      "dtypes: int64(8), object(18)\n",
      "memory usage: 2.5+ MB\n"
     ]
    }
   ],
   "source": [
    "data.info()"
   ]
  },
  {
   "cell_type": "code",
   "execution_count": 185,
   "metadata": {},
   "outputs": [
    {
     "data": {
      "text/html": [
       "<div>\n",
       "<style scoped>\n",
       "    .dataframe tbody tr th:only-of-type {\n",
       "        vertical-align: middle;\n",
       "    }\n",
       "\n",
       "    .dataframe tbody tr th {\n",
       "        vertical-align: top;\n",
       "    }\n",
       "\n",
       "    .dataframe thead th {\n",
       "        text-align: right;\n",
       "    }\n",
       "</style>\n",
       "<table border=\"1\" class=\"dataframe\">\n",
       "  <thead>\n",
       "    <tr style=\"text-align: right;\">\n",
       "      <th></th>\n",
       "      <th>destination</th>\n",
       "      <th>passanger</th>\n",
       "      <th>weather</th>\n",
       "      <th>temperature</th>\n",
       "      <th>time</th>\n",
       "      <th>coupon</th>\n",
       "      <th>expiration</th>\n",
       "      <th>gender</th>\n",
       "      <th>age</th>\n",
       "      <th>maritalStatus</th>\n",
       "      <th>...</th>\n",
       "      <th>CoffeeHouse</th>\n",
       "      <th>CarryAway</th>\n",
       "      <th>RestaurantLessThan20</th>\n",
       "      <th>Restaurant20To50</th>\n",
       "      <th>toCoupon_GEQ5min</th>\n",
       "      <th>toCoupon_GEQ15min</th>\n",
       "      <th>toCoupon_GEQ25min</th>\n",
       "      <th>direction_same</th>\n",
       "      <th>direction_opp</th>\n",
       "      <th>Y</th>\n",
       "    </tr>\n",
       "  </thead>\n",
       "  <tbody>\n",
       "    <tr>\n",
       "      <th>0</th>\n",
       "      <td>No Urgent Place</td>\n",
       "      <td>Alone</td>\n",
       "      <td>Sunny</td>\n",
       "      <td>55</td>\n",
       "      <td>2PM</td>\n",
       "      <td>Restaurant(&lt;20)</td>\n",
       "      <td>1d</td>\n",
       "      <td>Female</td>\n",
       "      <td>21</td>\n",
       "      <td>Unmarried partner</td>\n",
       "      <td>...</td>\n",
       "      <td>never</td>\n",
       "      <td>&lt;NA&gt;</td>\n",
       "      <td>4~8</td>\n",
       "      <td>1~3</td>\n",
       "      <td>1</td>\n",
       "      <td>0</td>\n",
       "      <td>0</td>\n",
       "      <td>0</td>\n",
       "      <td>1</td>\n",
       "      <td>1</td>\n",
       "    </tr>\n",
       "    <tr>\n",
       "      <th>1</th>\n",
       "      <td>No Urgent Place</td>\n",
       "      <td>Friend(s)</td>\n",
       "      <td>Sunny</td>\n",
       "      <td>80</td>\n",
       "      <td>10AM</td>\n",
       "      <td>Coffee House</td>\n",
       "      <td>2h</td>\n",
       "      <td>Female</td>\n",
       "      <td>21</td>\n",
       "      <td>Unmarried partner</td>\n",
       "      <td>...</td>\n",
       "      <td>never</td>\n",
       "      <td>&lt;NA&gt;</td>\n",
       "      <td>4~8</td>\n",
       "      <td>1~3</td>\n",
       "      <td>1</td>\n",
       "      <td>0</td>\n",
       "      <td>0</td>\n",
       "      <td>0</td>\n",
       "      <td>1</td>\n",
       "      <td>0</td>\n",
       "    </tr>\n",
       "    <tr>\n",
       "      <th>2</th>\n",
       "      <td>No Urgent Place</td>\n",
       "      <td>Friend(s)</td>\n",
       "      <td>Sunny</td>\n",
       "      <td>80</td>\n",
       "      <td>10AM</td>\n",
       "      <td>Carry out &amp; Take away</td>\n",
       "      <td>2h</td>\n",
       "      <td>Female</td>\n",
       "      <td>21</td>\n",
       "      <td>Unmarried partner</td>\n",
       "      <td>...</td>\n",
       "      <td>never</td>\n",
       "      <td>&lt;NA&gt;</td>\n",
       "      <td>4~8</td>\n",
       "      <td>1~3</td>\n",
       "      <td>1</td>\n",
       "      <td>1</td>\n",
       "      <td>0</td>\n",
       "      <td>0</td>\n",
       "      <td>1</td>\n",
       "      <td>1</td>\n",
       "    </tr>\n",
       "    <tr>\n",
       "      <th>3</th>\n",
       "      <td>No Urgent Place</td>\n",
       "      <td>Friend(s)</td>\n",
       "      <td>Sunny</td>\n",
       "      <td>80</td>\n",
       "      <td>2PM</td>\n",
       "      <td>Coffee House</td>\n",
       "      <td>2h</td>\n",
       "      <td>Female</td>\n",
       "      <td>21</td>\n",
       "      <td>Unmarried partner</td>\n",
       "      <td>...</td>\n",
       "      <td>never</td>\n",
       "      <td>&lt;NA&gt;</td>\n",
       "      <td>4~8</td>\n",
       "      <td>1~3</td>\n",
       "      <td>1</td>\n",
       "      <td>1</td>\n",
       "      <td>0</td>\n",
       "      <td>0</td>\n",
       "      <td>1</td>\n",
       "      <td>0</td>\n",
       "    </tr>\n",
       "    <tr>\n",
       "      <th>4</th>\n",
       "      <td>No Urgent Place</td>\n",
       "      <td>Friend(s)</td>\n",
       "      <td>Sunny</td>\n",
       "      <td>80</td>\n",
       "      <td>2PM</td>\n",
       "      <td>Coffee House</td>\n",
       "      <td>1d</td>\n",
       "      <td>Female</td>\n",
       "      <td>21</td>\n",
       "      <td>Unmarried partner</td>\n",
       "      <td>...</td>\n",
       "      <td>never</td>\n",
       "      <td>&lt;NA&gt;</td>\n",
       "      <td>4~8</td>\n",
       "      <td>1~3</td>\n",
       "      <td>1</td>\n",
       "      <td>1</td>\n",
       "      <td>0</td>\n",
       "      <td>0</td>\n",
       "      <td>1</td>\n",
       "      <td>0</td>\n",
       "    </tr>\n",
       "    <tr>\n",
       "      <th>...</th>\n",
       "      <td>...</td>\n",
       "      <td>...</td>\n",
       "      <td>...</td>\n",
       "      <td>...</td>\n",
       "      <td>...</td>\n",
       "      <td>...</td>\n",
       "      <td>...</td>\n",
       "      <td>...</td>\n",
       "      <td>...</td>\n",
       "      <td>...</td>\n",
       "      <td>...</td>\n",
       "      <td>...</td>\n",
       "      <td>...</td>\n",
       "      <td>...</td>\n",
       "      <td>...</td>\n",
       "      <td>...</td>\n",
       "      <td>...</td>\n",
       "      <td>...</td>\n",
       "      <td>...</td>\n",
       "      <td>...</td>\n",
       "      <td>...</td>\n",
       "    </tr>\n",
       "    <tr>\n",
       "      <th>12679</th>\n",
       "      <td>Home</td>\n",
       "      <td>Partner</td>\n",
       "      <td>Rainy</td>\n",
       "      <td>55</td>\n",
       "      <td>6PM</td>\n",
       "      <td>Carry out &amp; Take away</td>\n",
       "      <td>1d</td>\n",
       "      <td>Male</td>\n",
       "      <td>26</td>\n",
       "      <td>Single</td>\n",
       "      <td>...</td>\n",
       "      <td>never</td>\n",
       "      <td>1~3</td>\n",
       "      <td>4~8</td>\n",
       "      <td>1~3</td>\n",
       "      <td>1</td>\n",
       "      <td>0</td>\n",
       "      <td>0</td>\n",
       "      <td>1</td>\n",
       "      <td>0</td>\n",
       "      <td>1</td>\n",
       "    </tr>\n",
       "    <tr>\n",
       "      <th>12680</th>\n",
       "      <td>Work</td>\n",
       "      <td>Alone</td>\n",
       "      <td>Rainy</td>\n",
       "      <td>55</td>\n",
       "      <td>7AM</td>\n",
       "      <td>Carry out &amp; Take away</td>\n",
       "      <td>1d</td>\n",
       "      <td>Male</td>\n",
       "      <td>26</td>\n",
       "      <td>Single</td>\n",
       "      <td>...</td>\n",
       "      <td>never</td>\n",
       "      <td>1~3</td>\n",
       "      <td>4~8</td>\n",
       "      <td>1~3</td>\n",
       "      <td>1</td>\n",
       "      <td>0</td>\n",
       "      <td>0</td>\n",
       "      <td>0</td>\n",
       "      <td>1</td>\n",
       "      <td>1</td>\n",
       "    </tr>\n",
       "    <tr>\n",
       "      <th>12681</th>\n",
       "      <td>Work</td>\n",
       "      <td>Alone</td>\n",
       "      <td>Snowy</td>\n",
       "      <td>30</td>\n",
       "      <td>7AM</td>\n",
       "      <td>Coffee House</td>\n",
       "      <td>1d</td>\n",
       "      <td>Male</td>\n",
       "      <td>26</td>\n",
       "      <td>Single</td>\n",
       "      <td>...</td>\n",
       "      <td>never</td>\n",
       "      <td>1~3</td>\n",
       "      <td>4~8</td>\n",
       "      <td>1~3</td>\n",
       "      <td>1</td>\n",
       "      <td>0</td>\n",
       "      <td>0</td>\n",
       "      <td>1</td>\n",
       "      <td>0</td>\n",
       "      <td>0</td>\n",
       "    </tr>\n",
       "    <tr>\n",
       "      <th>12682</th>\n",
       "      <td>Work</td>\n",
       "      <td>Alone</td>\n",
       "      <td>Snowy</td>\n",
       "      <td>30</td>\n",
       "      <td>7AM</td>\n",
       "      <td>Bar</td>\n",
       "      <td>1d</td>\n",
       "      <td>Male</td>\n",
       "      <td>26</td>\n",
       "      <td>Single</td>\n",
       "      <td>...</td>\n",
       "      <td>never</td>\n",
       "      <td>1~3</td>\n",
       "      <td>4~8</td>\n",
       "      <td>1~3</td>\n",
       "      <td>1</td>\n",
       "      <td>1</td>\n",
       "      <td>1</td>\n",
       "      <td>0</td>\n",
       "      <td>1</td>\n",
       "      <td>0</td>\n",
       "    </tr>\n",
       "    <tr>\n",
       "      <th>12683</th>\n",
       "      <td>Work</td>\n",
       "      <td>Alone</td>\n",
       "      <td>Sunny</td>\n",
       "      <td>80</td>\n",
       "      <td>7AM</td>\n",
       "      <td>Restaurant(20-50)</td>\n",
       "      <td>2h</td>\n",
       "      <td>Male</td>\n",
       "      <td>26</td>\n",
       "      <td>Single</td>\n",
       "      <td>...</td>\n",
       "      <td>never</td>\n",
       "      <td>1~3</td>\n",
       "      <td>4~8</td>\n",
       "      <td>1~3</td>\n",
       "      <td>1</td>\n",
       "      <td>0</td>\n",
       "      <td>0</td>\n",
       "      <td>1</td>\n",
       "      <td>0</td>\n",
       "      <td>0</td>\n",
       "    </tr>\n",
       "  </tbody>\n",
       "</table>\n",
       "<p>12684 rows × 26 columns</p>\n",
       "</div>"
      ],
      "text/plain": [
       "           destination  passanger weather  temperature  time  \\\n",
       "0      No Urgent Place      Alone   Sunny           55   2PM   \n",
       "1      No Urgent Place  Friend(s)   Sunny           80  10AM   \n",
       "2      No Urgent Place  Friend(s)   Sunny           80  10AM   \n",
       "3      No Urgent Place  Friend(s)   Sunny           80   2PM   \n",
       "4      No Urgent Place  Friend(s)   Sunny           80   2PM   \n",
       "...                ...        ...     ...          ...   ...   \n",
       "12679             Home    Partner   Rainy           55   6PM   \n",
       "12680             Work      Alone   Rainy           55   7AM   \n",
       "12681             Work      Alone   Snowy           30   7AM   \n",
       "12682             Work      Alone   Snowy           30   7AM   \n",
       "12683             Work      Alone   Sunny           80   7AM   \n",
       "\n",
       "                      coupon expiration  gender age      maritalStatus  ...  \\\n",
       "0            Restaurant(<20)         1d  Female  21  Unmarried partner  ...   \n",
       "1               Coffee House         2h  Female  21  Unmarried partner  ...   \n",
       "2      Carry out & Take away         2h  Female  21  Unmarried partner  ...   \n",
       "3               Coffee House         2h  Female  21  Unmarried partner  ...   \n",
       "4               Coffee House         1d  Female  21  Unmarried partner  ...   \n",
       "...                      ...        ...     ...  ..                ...  ...   \n",
       "12679  Carry out & Take away         1d    Male  26             Single  ...   \n",
       "12680  Carry out & Take away         1d    Male  26             Single  ...   \n",
       "12681           Coffee House         1d    Male  26             Single  ...   \n",
       "12682                    Bar         1d    Male  26             Single  ...   \n",
       "12683      Restaurant(20-50)         2h    Male  26             Single  ...   \n",
       "\n",
       "       CoffeeHouse CarryAway RestaurantLessThan20 Restaurant20To50  \\\n",
       "0            never      <NA>                  4~8              1~3   \n",
       "1            never      <NA>                  4~8              1~3   \n",
       "2            never      <NA>                  4~8              1~3   \n",
       "3            never      <NA>                  4~8              1~3   \n",
       "4            never      <NA>                  4~8              1~3   \n",
       "...            ...       ...                  ...              ...   \n",
       "12679        never       1~3                  4~8              1~3   \n",
       "12680        never       1~3                  4~8              1~3   \n",
       "12681        never       1~3                  4~8              1~3   \n",
       "12682        never       1~3                  4~8              1~3   \n",
       "12683        never       1~3                  4~8              1~3   \n",
       "\n",
       "      toCoupon_GEQ5min toCoupon_GEQ15min toCoupon_GEQ25min direction_same  \\\n",
       "0                    1                 0                 0              0   \n",
       "1                    1                 0                 0              0   \n",
       "2                    1                 1                 0              0   \n",
       "3                    1                 1                 0              0   \n",
       "4                    1                 1                 0              0   \n",
       "...                ...               ...               ...            ...   \n",
       "12679                1                 0                 0              1   \n",
       "12680                1                 0                 0              0   \n",
       "12681                1                 0                 0              1   \n",
       "12682                1                 1                 1              0   \n",
       "12683                1                 0                 0              1   \n",
       "\n",
       "      direction_opp  Y  \n",
       "0                 1  1  \n",
       "1                 1  0  \n",
       "2                 1  1  \n",
       "3                 1  0  \n",
       "4                 1  0  \n",
       "...             ... ..  \n",
       "12679             0  1  \n",
       "12680             1  1  \n",
       "12681             0  0  \n",
       "12682             1  0  \n",
       "12683             0  0  \n",
       "\n",
       "[12684 rows x 26 columns]"
      ]
     },
     "execution_count": 185,
     "metadata": {},
     "output_type": "execute_result"
    }
   ],
   "source": [
    "# convert Data types\n",
    "data.convert_dtypes()"
   ]
  },
  {
   "cell_type": "code",
   "execution_count": 186,
   "metadata": {},
   "outputs": [
    {
     "name": "stdout",
     "output_type": "stream",
     "text": [
      "<class 'pandas.core.frame.DataFrame'>\n",
      "RangeIndex: 12684 entries, 0 to 12683\n",
      "Data columns (total 26 columns):\n",
      " #   Column                Non-Null Count  Dtype \n",
      "---  ------                --------------  ----- \n",
      " 0   destination           12684 non-null  object\n",
      " 1   passanger             12684 non-null  object\n",
      " 2   weather               12684 non-null  object\n",
      " 3   temperature           12684 non-null  int64 \n",
      " 4   time                  12684 non-null  object\n",
      " 5   coupon                12684 non-null  object\n",
      " 6   expiration            12684 non-null  object\n",
      " 7   gender                12684 non-null  object\n",
      " 8   age                   12684 non-null  object\n",
      " 9   maritalStatus         12684 non-null  object\n",
      " 10  has_children          12684 non-null  int64 \n",
      " 11  education             12684 non-null  object\n",
      " 12  occupation            12684 non-null  object\n",
      " 13  income                12684 non-null  object\n",
      " 14  car                   108 non-null    object\n",
      " 15  Bar                   12577 non-null  object\n",
      " 16  CoffeeHouse           12467 non-null  object\n",
      " 17  CarryAway             12533 non-null  object\n",
      " 18  RestaurantLessThan20  12554 non-null  object\n",
      " 19  Restaurant20To50      12495 non-null  object\n",
      " 20  toCoupon_GEQ5min      12684 non-null  int64 \n",
      " 21  toCoupon_GEQ15min     12684 non-null  int64 \n",
      " 22  toCoupon_GEQ25min     12684 non-null  int64 \n",
      " 23  direction_same        12684 non-null  int64 \n",
      " 24  direction_opp         12684 non-null  int64 \n",
      " 25  Y                     12684 non-null  int64 \n",
      "dtypes: int64(8), object(18)\n",
      "memory usage: 2.5+ MB\n"
     ]
    }
   ],
   "source": [
    "data.info()"
   ]
  },
  {
   "cell_type": "markdown",
   "metadata": {},
   "source": [
    "2. Investigate the dataset for missing or problematic data."
   ]
  },
  {
   "cell_type": "code",
   "execution_count": 187,
   "metadata": {},
   "outputs": [
    {
     "data": {
      "text/plain": [
       "destination                 0\n",
       "passanger                   0\n",
       "weather                     0\n",
       "temperature                 0\n",
       "time                        0\n",
       "coupon                      0\n",
       "expiration                  0\n",
       "gender                      0\n",
       "age                         0\n",
       "maritalStatus               0\n",
       "has_children                0\n",
       "education                   0\n",
       "occupation                  0\n",
       "income                      0\n",
       "car                     12576\n",
       "Bar                       107\n",
       "CoffeeHouse               217\n",
       "CarryAway                 151\n",
       "RestaurantLessThan20      130\n",
       "Restaurant20To50          189\n",
       "toCoupon_GEQ5min            0\n",
       "toCoupon_GEQ15min           0\n",
       "toCoupon_GEQ25min           0\n",
       "direction_same              0\n",
       "direction_opp               0\n",
       "Y                           0\n",
       "dtype: int64"
      ]
     },
     "execution_count": 187,
     "metadata": {},
     "output_type": "execute_result"
    }
   ],
   "source": [
    "# check missing values in train data\n",
    "data.isnull().sum()"
   ]
  },
  {
   "cell_type": "code",
   "execution_count": 188,
   "metadata": {},
   "outputs": [],
   "source": [
    "#################################################################################################\n",
    "# Based on the above the following columns are missing data:\n",
    "# car                       12576           99.15%\n",
    "# Bar                       107             0.84%\n",
    "# CoffeeHouse               217             1.71%\n",
    "# CarryAway                 151             1.19%\n",
    "# RestaurantLessThan20      130             1.02%\n",
    "# Restaurant20To50          189             1.49%\n",
    "#################################################################################################\n",
    "\n",
    "# Note: car is mostly empty column that we can drop (see below for percentage)\n",
    "# The rest of the columns (Bar, CoffeeHouse, CarryAway, RestaurantLessThan20, and Restaurant20To50)is missing less than 2% (see below for percentage)"
   ]
  },
  {
   "cell_type": "code",
   "execution_count": 189,
   "metadata": {},
   "outputs": [
    {
     "name": "stdout",
     "output_type": "stream",
     "text": [
      "Percent of missing \"car\" records is 99.15%\n",
      "Percent of missing \"Bar\" records is 0.84%\n",
      "Percent of missing \"CoffeeHouse\" records is 1.71%\n",
      "Percent of missing \"CarryAway\" records is 1.19%\n",
      "Percent of missing \"RestaurantLessThan20\" records is 1.02%\n",
      "Percent of missing \"Restaurant20To50\" records is 1.49%\n"
     ]
    }
   ],
   "source": [
    "# percent of missing \"car\" \n",
    "print('Percent of missing \"car\" records is %.2f%%' %((data['car'].isnull().sum()/data.shape[0])*100))\n",
    "\n",
    "# percent of missing \"Bar\" \n",
    "print('Percent of missing \"Bar\" records is %.2f%%' %((data['Bar'].isnull().sum()/data.shape[0])*100))\n",
    "\n",
    "# percent of missing \"CoffeeHouse\" \n",
    "print('Percent of missing \"CoffeeHouse\" records is %.2f%%' %((data['CoffeeHouse'].isnull().sum()/data.shape[0])*100))\n",
    "\n",
    "# percent of missing \"CarryAway\" \n",
    "print('Percent of missing \"CarryAway\" records is %.2f%%' %((data['CarryAway'].isnull().sum()/data.shape[0])*100))\n",
    "\n",
    "# percent of missing \"RestaurantLessThan20\" \n",
    "print('Percent of missing \"RestaurantLessThan20\" records is %.2f%%' %((data['RestaurantLessThan20'].isnull().sum()/data.shape[0])*100))\n",
    "\n",
    "# percent of missing \"Restaurant20To50\" \n",
    "print('Percent of missing \"Restaurant20To50\" records is %.2f%%' %((data['Restaurant20To50'].isnull().sum()/data.shape[0])*100))"
   ]
  },
  {
   "cell_type": "code",
   "execution_count": 190,
   "metadata": {},
   "outputs": [
    {
     "name": "stdout",
     "output_type": "stream",
     "text": [
      "\n",
      "Unique values count for destination:\n",
      "destination\n",
      "No Urgent Place    6283\n",
      "Home               3237\n",
      "Work               3164\n",
      "Name: count, dtype: int64\n",
      "\n",
      "Unique values count for passanger:\n",
      "passanger\n",
      "Alone        7305\n",
      "Friend(s)    3298\n",
      "Partner      1075\n",
      "Kid(s)       1006\n",
      "Name: count, dtype: int64\n",
      "\n",
      "Unique values count for weather:\n",
      "weather\n",
      "Sunny    10069\n",
      "Snowy     1405\n",
      "Rainy     1210\n",
      "Name: count, dtype: int64\n",
      "\n",
      "Unique values count for coupon:\n",
      "coupon\n",
      "Coffee House             3996\n",
      "Restaurant(<20)          2786\n",
      "Carry out & Take away    2393\n",
      "Bar                      2017\n",
      "Restaurant(20-50)        1492\n",
      "Name: count, dtype: int64\n",
      "\n",
      "Unique values count for expiration:\n",
      "expiration\n",
      "1d    7091\n",
      "2h    5593\n",
      "Name: count, dtype: int64\n",
      "\n",
      "Unique values count for gender:\n",
      "gender\n",
      "Female    6511\n",
      "Male      6173\n",
      "Name: count, dtype: int64\n",
      "\n",
      "Unique values count for maritalStatus:\n",
      "maritalStatus\n",
      "Married partner      5100\n",
      "Single               4752\n",
      "Unmarried partner    2186\n",
      "Divorced              516\n",
      "Widowed               130\n",
      "Name: count, dtype: int64\n",
      "\n",
      "Unique values count for CoffeeHouse:\n",
      "CoffeeHouse\n",
      "less1    3385\n",
      "1~3      3225\n",
      "never    2962\n",
      "4~8      1784\n",
      "gt8      1111\n",
      "Name: count, dtype: int64\n",
      "\n",
      "Unique values count for CarryAway:\n",
      "CarryAway\n",
      "1~3      4672\n",
      "4~8      4258\n",
      "less1    1856\n",
      "gt8      1594\n",
      "never     153\n",
      "Name: count, dtype: int64\n",
      "\n",
      "Unique values count for RestaurantLessThan20:\n",
      "RestaurantLessThan20\n",
      "1~3      5376\n",
      "4~8      3580\n",
      "less1    2093\n",
      "gt8      1285\n",
      "never     220\n",
      "Name: count, dtype: int64\n",
      "\n",
      "Unique values count for Restaurant20To50:\n",
      "Restaurant20To50\n",
      "less1    6077\n",
      "1~3      3290\n",
      "never    2136\n",
      "4~8       728\n",
      "gt8       264\n",
      "Name: count, dtype: int64\n",
      "\n",
      "Unique values count for toCoupon_GEQ5min:\n",
      "toCoupon_GEQ5min\n",
      "1    12684\n",
      "Name: count, dtype: int64\n",
      "\n",
      "Unique values count for toCoupon_GEQ15min:\n",
      "toCoupon_GEQ15min\n",
      "1    7122\n",
      "0    5562\n",
      "Name: count, dtype: int64\n",
      "\n",
      "Unique values count for toCoupon_GEQ25min:\n",
      "toCoupon_GEQ25min\n",
      "0    11173\n",
      "1     1511\n",
      "Name: count, dtype: int64\n",
      "\n",
      "Unique values count for direction_same:\n",
      "direction_same\n",
      "0    9960\n",
      "1    2724\n",
      "Name: count, dtype: int64\n",
      "\n",
      "Unique values count for direction_opp:\n",
      "direction_opp\n",
      "1    9960\n",
      "0    2724\n",
      "Name: count, dtype: int64\n",
      "\n",
      "Unique values count for Y:\n",
      "Y\n",
      "1    7210\n",
      "0    5474\n",
      "Name: count, dtype: int64\n"
     ]
    }
   ],
   "source": [
    "# Check unique values and their counts for categorical columns\n",
    "categorical_columns = ['destination', 'passanger', 'weather', 'coupon', 'expiration', 'gender', 'maritalStatus', 'CoffeeHouse', 'CarryAway', 'RestaurantLessThan20', 'Restaurant20To50', 'toCoupon_GEQ5min', 'toCoupon_GEQ15min', 'toCoupon_GEQ25min', 'direction_same', 'direction_opp', 'Y']\n",
    "for column in categorical_columns:\n",
    "    unique_values_count = data[column].value_counts()\n",
    "    print(f\"\\nUnique values count for {column}:\")\n",
    "    print(unique_values_count)"
   ]
  },
  {
   "cell_type": "markdown",
   "metadata": {},
   "source": [
    "3. Decide what to do about your missing data -- drop, replace, other..."
   ]
  },
  {
   "cell_type": "code",
   "execution_count": 191,
   "metadata": {},
   "outputs": [],
   "source": [
    "#There are  99.15 % missing values for \"car\", so we can just drop the \"car\"\n",
    "df = data.drop('car', axis=1)"
   ]
  },
  {
   "cell_type": "code",
   "execution_count": 192,
   "metadata": {},
   "outputs": [
    {
     "data": {
      "text/plain": [
       "'less1'"
      ]
     },
     "execution_count": 192,
     "metadata": {},
     "output_type": "execute_result"
    }
   ],
   "source": [
    "data['Restaurant20To50'].mode()[0]"
   ]
  },
  {
   "cell_type": "code",
   "execution_count": 193,
   "metadata": {},
   "outputs": [],
   "source": [
    "# Replace missing values with less than 2%  (Bar, CoffeeHouse, CarryAway, RestaurantLessThan20, and Restaurant20To50)\n",
    "#  with the most frequent value in each column \n",
    "\n",
    "df['Bar'].fillna(data['Bar'].mode()[0], inplace=True)\n",
    "df['CoffeeHouse'].fillna(df['CoffeeHouse'].mode()[0], inplace=True)\n",
    "df['CarryAway'].fillna(df['CarryAway'].mode()[0], inplace=True)\n",
    "df['RestaurantLessThan20'].fillna(df['RestaurantLessThan20'].mode()[0], inplace=True)\n",
    "df['Restaurant20To50'].fillna(df['Restaurant20To50'].mode()[0], inplace=True)"
   ]
  },
  {
   "cell_type": "code",
   "execution_count": 194,
   "metadata": {},
   "outputs": [
    {
     "data": {
      "text/plain": [
       "destination             0\n",
       "passanger               0\n",
       "weather                 0\n",
       "temperature             0\n",
       "time                    0\n",
       "coupon                  0\n",
       "expiration              0\n",
       "gender                  0\n",
       "age                     0\n",
       "maritalStatus           0\n",
       "has_children            0\n",
       "education               0\n",
       "occupation              0\n",
       "income                  0\n",
       "Bar                     0\n",
       "CoffeeHouse             0\n",
       "CarryAway               0\n",
       "RestaurantLessThan20    0\n",
       "Restaurant20To50        0\n",
       "toCoupon_GEQ5min        0\n",
       "toCoupon_GEQ15min       0\n",
       "toCoupon_GEQ25min       0\n",
       "direction_same          0\n",
       "direction_opp           0\n",
       "Y                       0\n",
       "dtype: int64"
      ]
     },
     "execution_count": 194,
     "metadata": {},
     "output_type": "execute_result"
    }
   ],
   "source": [
    "# Sanity check for missing values (NaN or null) are not anymore exists\n",
    "df.isnull().sum()"
   ]
  },
  {
   "cell_type": "code",
   "execution_count": 195,
   "metadata": {
    "scrolled": true
   },
   "outputs": [
    {
     "data": {
      "text/html": [
       "<div>\n",
       "<style scoped>\n",
       "    .dataframe tbody tr th:only-of-type {\n",
       "        vertical-align: middle;\n",
       "    }\n",
       "\n",
       "    .dataframe tbody tr th {\n",
       "        vertical-align: top;\n",
       "    }\n",
       "\n",
       "    .dataframe thead th {\n",
       "        text-align: right;\n",
       "    }\n",
       "</style>\n",
       "<table border=\"1\" class=\"dataframe\">\n",
       "  <thead>\n",
       "    <tr style=\"text-align: right;\">\n",
       "      <th></th>\n",
       "      <th>destination</th>\n",
       "      <th>passanger</th>\n",
       "      <th>weather</th>\n",
       "      <th>temperature</th>\n",
       "      <th>time</th>\n",
       "      <th>coupon</th>\n",
       "      <th>expiration</th>\n",
       "      <th>gender</th>\n",
       "      <th>age</th>\n",
       "      <th>maritalStatus</th>\n",
       "      <th>...</th>\n",
       "      <th>CoffeeHouse</th>\n",
       "      <th>CarryAway</th>\n",
       "      <th>RestaurantLessThan20</th>\n",
       "      <th>Restaurant20To50</th>\n",
       "      <th>toCoupon_GEQ5min</th>\n",
       "      <th>toCoupon_GEQ15min</th>\n",
       "      <th>toCoupon_GEQ25min</th>\n",
       "      <th>direction_same</th>\n",
       "      <th>direction_opp</th>\n",
       "      <th>Y</th>\n",
       "    </tr>\n",
       "  </thead>\n",
       "  <tbody>\n",
       "    <tr>\n",
       "      <th>0</th>\n",
       "      <td>No Urgent Place</td>\n",
       "      <td>Alone</td>\n",
       "      <td>Sunny</td>\n",
       "      <td>55</td>\n",
       "      <td>2PM</td>\n",
       "      <td>Restaurant(&lt;20)</td>\n",
       "      <td>1d</td>\n",
       "      <td>Female</td>\n",
       "      <td>21</td>\n",
       "      <td>Unmarried partner</td>\n",
       "      <td>...</td>\n",
       "      <td>never</td>\n",
       "      <td>1~3</td>\n",
       "      <td>4~8</td>\n",
       "      <td>1~3</td>\n",
       "      <td>1</td>\n",
       "      <td>0</td>\n",
       "      <td>0</td>\n",
       "      <td>0</td>\n",
       "      <td>1</td>\n",
       "      <td>1</td>\n",
       "    </tr>\n",
       "    <tr>\n",
       "      <th>1</th>\n",
       "      <td>No Urgent Place</td>\n",
       "      <td>Friend(s)</td>\n",
       "      <td>Sunny</td>\n",
       "      <td>80</td>\n",
       "      <td>10AM</td>\n",
       "      <td>Coffee House</td>\n",
       "      <td>2h</td>\n",
       "      <td>Female</td>\n",
       "      <td>21</td>\n",
       "      <td>Unmarried partner</td>\n",
       "      <td>...</td>\n",
       "      <td>never</td>\n",
       "      <td>1~3</td>\n",
       "      <td>4~8</td>\n",
       "      <td>1~3</td>\n",
       "      <td>1</td>\n",
       "      <td>0</td>\n",
       "      <td>0</td>\n",
       "      <td>0</td>\n",
       "      <td>1</td>\n",
       "      <td>0</td>\n",
       "    </tr>\n",
       "    <tr>\n",
       "      <th>2</th>\n",
       "      <td>No Urgent Place</td>\n",
       "      <td>Friend(s)</td>\n",
       "      <td>Sunny</td>\n",
       "      <td>80</td>\n",
       "      <td>10AM</td>\n",
       "      <td>Carry out &amp; Take away</td>\n",
       "      <td>2h</td>\n",
       "      <td>Female</td>\n",
       "      <td>21</td>\n",
       "      <td>Unmarried partner</td>\n",
       "      <td>...</td>\n",
       "      <td>never</td>\n",
       "      <td>1~3</td>\n",
       "      <td>4~8</td>\n",
       "      <td>1~3</td>\n",
       "      <td>1</td>\n",
       "      <td>1</td>\n",
       "      <td>0</td>\n",
       "      <td>0</td>\n",
       "      <td>1</td>\n",
       "      <td>1</td>\n",
       "    </tr>\n",
       "    <tr>\n",
       "      <th>3</th>\n",
       "      <td>No Urgent Place</td>\n",
       "      <td>Friend(s)</td>\n",
       "      <td>Sunny</td>\n",
       "      <td>80</td>\n",
       "      <td>2PM</td>\n",
       "      <td>Coffee House</td>\n",
       "      <td>2h</td>\n",
       "      <td>Female</td>\n",
       "      <td>21</td>\n",
       "      <td>Unmarried partner</td>\n",
       "      <td>...</td>\n",
       "      <td>never</td>\n",
       "      <td>1~3</td>\n",
       "      <td>4~8</td>\n",
       "      <td>1~3</td>\n",
       "      <td>1</td>\n",
       "      <td>1</td>\n",
       "      <td>0</td>\n",
       "      <td>0</td>\n",
       "      <td>1</td>\n",
       "      <td>0</td>\n",
       "    </tr>\n",
       "    <tr>\n",
       "      <th>4</th>\n",
       "      <td>No Urgent Place</td>\n",
       "      <td>Friend(s)</td>\n",
       "      <td>Sunny</td>\n",
       "      <td>80</td>\n",
       "      <td>2PM</td>\n",
       "      <td>Coffee House</td>\n",
       "      <td>1d</td>\n",
       "      <td>Female</td>\n",
       "      <td>21</td>\n",
       "      <td>Unmarried partner</td>\n",
       "      <td>...</td>\n",
       "      <td>never</td>\n",
       "      <td>1~3</td>\n",
       "      <td>4~8</td>\n",
       "      <td>1~3</td>\n",
       "      <td>1</td>\n",
       "      <td>1</td>\n",
       "      <td>0</td>\n",
       "      <td>0</td>\n",
       "      <td>1</td>\n",
       "      <td>0</td>\n",
       "    </tr>\n",
       "  </tbody>\n",
       "</table>\n",
       "<p>5 rows × 25 columns</p>\n",
       "</div>"
      ],
      "text/plain": [
       "       destination  passanger weather  temperature  time  \\\n",
       "0  No Urgent Place      Alone   Sunny           55   2PM   \n",
       "1  No Urgent Place  Friend(s)   Sunny           80  10AM   \n",
       "2  No Urgent Place  Friend(s)   Sunny           80  10AM   \n",
       "3  No Urgent Place  Friend(s)   Sunny           80   2PM   \n",
       "4  No Urgent Place  Friend(s)   Sunny           80   2PM   \n",
       "\n",
       "                  coupon expiration  gender age      maritalStatus  ...  \\\n",
       "0        Restaurant(<20)         1d  Female  21  Unmarried partner  ...   \n",
       "1           Coffee House         2h  Female  21  Unmarried partner  ...   \n",
       "2  Carry out & Take away         2h  Female  21  Unmarried partner  ...   \n",
       "3           Coffee House         2h  Female  21  Unmarried partner  ...   \n",
       "4           Coffee House         1d  Female  21  Unmarried partner  ...   \n",
       "\n",
       "   CoffeeHouse CarryAway RestaurantLessThan20 Restaurant20To50  \\\n",
       "0        never       1~3                  4~8              1~3   \n",
       "1        never       1~3                  4~8              1~3   \n",
       "2        never       1~3                  4~8              1~3   \n",
       "3        never       1~3                  4~8              1~3   \n",
       "4        never       1~3                  4~8              1~3   \n",
       "\n",
       "  toCoupon_GEQ5min toCoupon_GEQ15min toCoupon_GEQ25min direction_same  \\\n",
       "0                1                 0                 0              0   \n",
       "1                1                 0                 0              0   \n",
       "2                1                 1                 0              0   \n",
       "3                1                 1                 0              0   \n",
       "4                1                 1                 0              0   \n",
       "\n",
       "  direction_opp  Y  \n",
       "0             1  1  \n",
       "1             1  0  \n",
       "2             1  1  \n",
       "3             1  0  \n",
       "4             1  0  \n",
       "\n",
       "[5 rows x 25 columns]"
      ]
     },
     "execution_count": 195,
     "metadata": {},
     "output_type": "execute_result"
    }
   ],
   "source": [
    "#quick visual inspection of the cleaned data\n",
    "df.head()"
   ]
  },
  {
   "cell_type": "markdown",
   "metadata": {},
   "source": [
    "4. What proportion of the total observations chose to accept the coupon? \n",
    "\n"
   ]
  },
  {
   "cell_type": "code",
   "execution_count": 196,
   "metadata": {},
   "outputs": [
    {
     "name": "stdout",
     "output_type": "stream",
     "text": [
      "Proportion of total observations that accepted the coupon m : 56.84 %\n"
     ]
    }
   ],
   "source": [
    "# Calculate the proportion of observations that accepted the coupon\n",
    "accepted_coupon_count_m =  df['Y'].mean() *100\n",
    "\n",
    "print(f\"Proportion of total observations that accepted the coupon m : {accepted_coupon_count_m:.2f} %\")"
   ]
  },
  {
   "cell_type": "markdown",
   "metadata": {},
   "source": [
    "5. Use a bar plot to visualize the `coupon` column."
   ]
  },
  {
   "cell_type": "code",
   "execution_count": 197,
   "metadata": {},
   "outputs": [
    {
     "data": {
      "image/png": "[encoded data removed]",
      "text/plain": [
       "<Figure size 800x600 with 1 Axes>"
      ]
     },
     "metadata": {},
     "output_type": "display_data"
    }
   ],
   "source": [
    "# Count the occurrences of each unique value in the 'coupon' column\n",
    "coupon_counts = df['coupon'].value_counts()\n",
    "\n",
    "# Create a bar plot\n",
    "plt.figure(figsize=(8, 6))\n",
    "coupon_counts.plot(kind='bar', color='skyblue')\n",
    "plt.title('Count of Coupons Accepted')\n",
    "plt.xlabel('Coupon Types')\n",
    "plt.ylabel('Count')\n",
    "plt.xticks(rotation=45)  # Rotate x-axis labels for better readability if needed\n",
    "plt.tight_layout()\n",
    "plt.show()"
   ]
  },
  {
   "cell_type": "markdown",
   "metadata": {},
   "source": [
    "6. Use a histogram to visualize the temperature column."
   ]
  },
  {
   "cell_type": "code",
   "execution_count": 198,
   "metadata": {},
   "outputs": [
    {
     "data": {
      "image/png": "[encoded data removed]",
      "text/plain": [
       "<Figure size 800x600 with 1 Axes>"
      ]
     },
     "metadata": {},
     "output_type": "display_data"
    }
   ],
   "source": [
    "# Create a histogram for the 'temperature' column\n",
    "plt.figure(figsize=(8, 6))\n",
    "plt.hist(df['temperature'], bins=10, color='skyblue', edgecolor='black')  # Adjust the number of bins as needed\n",
    "plt.title('Distribution of Temperature')\n",
    "plt.xlabel('Temperature')\n",
    "plt.ylabel('Frequency')\n",
    "plt.grid(True)\n",
    "plt.tight_layout()\n",
    "plt.show()"
   ]
  },
  {
   "cell_type": "markdown",
   "metadata": {},
   "source": [
    "**Investigating the Bar Coupons**\n",
    "\n",
    "Now, we will lead you through an exploration of just the bar related coupons.  \n",
    "\n",
    "1. Create a new `DataFrame` that contains just the bar coupons.\n"
   ]
  },
  {
   "cell_type": "code",
   "execution_count": 199,
   "metadata": {},
   "outputs": [
    {
     "data": {
      "text/html": [
       "<div>\n",
       "<style scoped>\n",
       "    .dataframe tbody tr th:only-of-type {\n",
       "        vertical-align: middle;\n",
       "    }\n",
       "\n",
       "    .dataframe tbody tr th {\n",
       "        vertical-align: top;\n",
       "    }\n",
       "\n",
       "    .dataframe thead th {\n",
       "        text-align: right;\n",
       "    }\n",
       "</style>\n",
       "<table border=\"1\" class=\"dataframe\">\n",
       "  <thead>\n",
       "    <tr style=\"text-align: right;\">\n",
       "      <th></th>\n",
       "      <th>destination</th>\n",
       "      <th>passanger</th>\n",
       "      <th>weather</th>\n",
       "      <th>temperature</th>\n",
       "      <th>time</th>\n",
       "      <th>coupon</th>\n",
       "      <th>expiration</th>\n",
       "      <th>gender</th>\n",
       "      <th>age</th>\n",
       "      <th>maritalStatus</th>\n",
       "      <th>...</th>\n",
       "      <th>CoffeeHouse</th>\n",
       "      <th>CarryAway</th>\n",
       "      <th>RestaurantLessThan20</th>\n",
       "      <th>Restaurant20To50</th>\n",
       "      <th>toCoupon_GEQ5min</th>\n",
       "      <th>toCoupon_GEQ15min</th>\n",
       "      <th>toCoupon_GEQ25min</th>\n",
       "      <th>direction_same</th>\n",
       "      <th>direction_opp</th>\n",
       "      <th>Y</th>\n",
       "    </tr>\n",
       "  </thead>\n",
       "  <tbody>\n",
       "    <tr>\n",
       "      <th>9</th>\n",
       "      <td>No Urgent Place</td>\n",
       "      <td>Kid(s)</td>\n",
       "      <td>Sunny</td>\n",
       "      <td>80</td>\n",
       "      <td>10AM</td>\n",
       "      <td>Bar</td>\n",
       "      <td>1d</td>\n",
       "      <td>Female</td>\n",
       "      <td>21</td>\n",
       "      <td>Unmarried partner</td>\n",
       "      <td>...</td>\n",
       "      <td>never</td>\n",
       "      <td>1~3</td>\n",
       "      <td>4~8</td>\n",
       "      <td>1~3</td>\n",
       "      <td>1</td>\n",
       "      <td>1</td>\n",
       "      <td>0</td>\n",
       "      <td>0</td>\n",
       "      <td>1</td>\n",
       "      <td>0</td>\n",
       "    </tr>\n",
       "    <tr>\n",
       "      <th>13</th>\n",
       "      <td>Home</td>\n",
       "      <td>Alone</td>\n",
       "      <td>Sunny</td>\n",
       "      <td>55</td>\n",
       "      <td>6PM</td>\n",
       "      <td>Bar</td>\n",
       "      <td>1d</td>\n",
       "      <td>Female</td>\n",
       "      <td>21</td>\n",
       "      <td>Unmarried partner</td>\n",
       "      <td>...</td>\n",
       "      <td>never</td>\n",
       "      <td>1~3</td>\n",
       "      <td>4~8</td>\n",
       "      <td>1~3</td>\n",
       "      <td>1</td>\n",
       "      <td>0</td>\n",
       "      <td>0</td>\n",
       "      <td>1</td>\n",
       "      <td>0</td>\n",
       "      <td>1</td>\n",
       "    </tr>\n",
       "    <tr>\n",
       "      <th>17</th>\n",
       "      <td>Work</td>\n",
       "      <td>Alone</td>\n",
       "      <td>Sunny</td>\n",
       "      <td>55</td>\n",
       "      <td>7AM</td>\n",
       "      <td>Bar</td>\n",
       "      <td>1d</td>\n",
       "      <td>Female</td>\n",
       "      <td>21</td>\n",
       "      <td>Unmarried partner</td>\n",
       "      <td>...</td>\n",
       "      <td>never</td>\n",
       "      <td>1~3</td>\n",
       "      <td>4~8</td>\n",
       "      <td>1~3</td>\n",
       "      <td>1</td>\n",
       "      <td>1</td>\n",
       "      <td>1</td>\n",
       "      <td>0</td>\n",
       "      <td>1</td>\n",
       "      <td>0</td>\n",
       "    </tr>\n",
       "    <tr>\n",
       "      <th>24</th>\n",
       "      <td>No Urgent Place</td>\n",
       "      <td>Friend(s)</td>\n",
       "      <td>Sunny</td>\n",
       "      <td>80</td>\n",
       "      <td>10AM</td>\n",
       "      <td>Bar</td>\n",
       "      <td>1d</td>\n",
       "      <td>Male</td>\n",
       "      <td>21</td>\n",
       "      <td>Single</td>\n",
       "      <td>...</td>\n",
       "      <td>less1</td>\n",
       "      <td>4~8</td>\n",
       "      <td>4~8</td>\n",
       "      <td>less1</td>\n",
       "      <td>1</td>\n",
       "      <td>0</td>\n",
       "      <td>0</td>\n",
       "      <td>0</td>\n",
       "      <td>1</td>\n",
       "      <td>1</td>\n",
       "    </tr>\n",
       "    <tr>\n",
       "      <th>35</th>\n",
       "      <td>Home</td>\n",
       "      <td>Alone</td>\n",
       "      <td>Sunny</td>\n",
       "      <td>55</td>\n",
       "      <td>6PM</td>\n",
       "      <td>Bar</td>\n",
       "      <td>1d</td>\n",
       "      <td>Male</td>\n",
       "      <td>21</td>\n",
       "      <td>Single</td>\n",
       "      <td>...</td>\n",
       "      <td>less1</td>\n",
       "      <td>4~8</td>\n",
       "      <td>4~8</td>\n",
       "      <td>less1</td>\n",
       "      <td>1</td>\n",
       "      <td>0</td>\n",
       "      <td>0</td>\n",
       "      <td>1</td>\n",
       "      <td>0</td>\n",
       "      <td>1</td>\n",
       "    </tr>\n",
       "  </tbody>\n",
       "</table>\n",
       "<p>5 rows × 25 columns</p>\n",
       "</div>"
      ],
      "text/plain": [
       "        destination  passanger weather  temperature  time coupon expiration  \\\n",
       "9   No Urgent Place     Kid(s)   Sunny           80  10AM    Bar         1d   \n",
       "13             Home      Alone   Sunny           55   6PM    Bar         1d   \n",
       "17             Work      Alone   Sunny           55   7AM    Bar         1d   \n",
       "24  No Urgent Place  Friend(s)   Sunny           80  10AM    Bar         1d   \n",
       "35             Home      Alone   Sunny           55   6PM    Bar         1d   \n",
       "\n",
       "    gender age      maritalStatus  ...  CoffeeHouse CarryAway  \\\n",
       "9   Female  21  Unmarried partner  ...        never       1~3   \n",
       "13  Female  21  Unmarried partner  ...        never       1~3   \n",
       "17  Female  21  Unmarried partner  ...        never       1~3   \n",
       "24    Male  21             Single  ...        less1       4~8   \n",
       "35    Male  21             Single  ...        less1       4~8   \n",
       "\n",
       "   RestaurantLessThan20 Restaurant20To50 toCoupon_GEQ5min toCoupon_GEQ15min  \\\n",
       "9                   4~8              1~3                1                 1   \n",
       "13                  4~8              1~3                1                 0   \n",
       "17                  4~8              1~3                1                 1   \n",
       "24                  4~8            less1                1                 0   \n",
       "35                  4~8            less1                1                 0   \n",
       "\n",
       "   toCoupon_GEQ25min direction_same direction_opp  Y  \n",
       "9                  0              0             1  0  \n",
       "13                 0              1             0  1  \n",
       "17                 1              0             1  0  \n",
       "24                 0              0             1  1  \n",
       "35                 0              1             0  1  \n",
       "\n",
       "[5 rows x 25 columns]"
      ]
     },
     "execution_count": 199,
     "metadata": {},
     "output_type": "execute_result"
    }
   ],
   "source": [
    "# Filtering the original DataFrame for rows with 'Bar' in the 'coupon' column\n",
    "bar_coupons_df = df[df['coupon'] == 'Bar']\n",
    "\n",
    "# Displaying the new DataFrame with only 'Bar' coupons\n",
    "bar_coupons_df.head()"
   ]
  },
  {
   "cell_type": "markdown",
   "metadata": {},
   "source": [
    "2. What proportion of bar coupons were accepted?\n"
   ]
  },
  {
   "cell_type": "code",
   "execution_count": 200,
   "metadata": {
    "scrolled": true
   },
   "outputs": [
    {
     "name": "stdout",
     "output_type": "stream",
     "text": [
      "The proportion of accepted 'Bar' coupons: 41.00 %\n"
     ]
    }
   ],
   "source": [
    "# Calculating the proportion of accepted 'Bar' coupons\n",
    "proportion_accepted_m = bar_coupons_df['Y'].mean()*100\n",
    "\n",
    "# Displaying the proportion 'Bar' coupons\n",
    "print(f\"The proportion of accepted 'Bar' coupons: {proportion_accepted_m:.2f} %\")"
   ]
  },
  {
   "cell_type": "markdown",
   "metadata": {},
   "source": [
    "3. Compare the acceptance rate between those who went to a bar 3 or fewer times a month to those who went more.\n"
   ]
  },
  {
   "cell_type": "code",
   "execution_count": 201,
   "metadata": {},
   "outputs": [
    {
     "name": "stdout",
     "output_type": "stream",
     "text": [
      "Acceptance rate for drivers who went to a bar 3 or fewer times a month:   52.74%\n",
      "Acceptance rate for drivers who went to a bar more than 3 times a month:  76.88%\n",
      "Drivers who went to a bar more than 3 times a month have a higher acceptance rate.\n"
     ]
    }
   ],
   "source": [
    "# Assuming bar_coupons_df is your DataFrame containing the provided dataset\n",
    "# Filtering for drivers who went to a bar 3 or fewer times a month and those who went more than 3 times a month#\n",
    "bar_condition_less = (bar_coupons_df['Bar'] == 'less1') | (bar_coupons_df['Bar'] == '1~3') # Assuming 'less1' and '1~3' represent 3 or fewer times a month\n",
    "bar_condition_more = (bar_coupons_df['Bar'] == '4~8') | (bar_coupons_df['Bar'] == 'gt8')  # Assuming '4~8' and 'gt8' represent more than 3 times a month\n",
    "\n",
    "filtered_less_df = bar_coupons_df[bar_condition_less]\n",
    "filtered_more_df = bar_coupons_df[bar_condition_more]\n",
    "\n",
    "# Calculate acceptance rates for drivers who went to a bar 3 or fewer times a month and those who went more than 3 times a month\n",
    "acceptance_rate_less = filtered_less_df['Y'].mean()*100\n",
    "acceptance_rate_more = filtered_more_df['Y'].mean()*100\n",
    "\n",
    "# Display the acceptance rates for comparison\n",
    "print(f\"Acceptance rate for drivers who went to a bar 3 or fewer times a month:  {acceptance_rate_less: .2f}%\")\n",
    "print(f\"Acceptance rate for drivers who went to a bar more than 3 times a month: {acceptance_rate_more: .2f}%\")\n",
    "\n",
    "\n",
    "# Compare the acceptance rates\n",
    "if acceptance_rate_less > acceptance_rate_more:\n",
    "    print(\"Drivers who went to a bar 3 or fewer times a month have a higher acceptance rate.\")\n",
    "elif acceptance_rate_less < acceptance_rate_more:\n",
    "    print(\"Drivers who went to a bar more than 3 times a month have a higher acceptance rate.\")\n",
    "else:\n",
    "    print(\"Acceptance rates are the same for both groups.\")\n",
    "\n",
    "    \n",
    "#bar_coupons_df[['Bar']].plot(kind='bar', color='skyblue')"
   ]
  },
  {
   "cell_type": "markdown",
   "metadata": {},
   "source": [
    "4. Compare the acceptance rate between drivers who go to a bar more than once a month and are over the age of 25 to the all others.  Is there a difference?\n"
   ]
  },
  {
   "cell_type": "code",
   "execution_count": 202,
   "metadata": {},
   "outputs": [
    {
     "name": "stdout",
     "output_type": "stream",
     "text": [
      "Acceptance rate for drivers over 25 visiting a bar more than once a month:  69.52 %\n",
      "Acceptance rate for all other drivers:  33.50 %\n",
      "There is a difference in acceptance rates between the two groups.\n"
     ]
    }
   ],
   "source": [
    "# Assuming bar_coupons_df is your DataFrame containing the provided dataset\n",
    "# Filtering for drivers who go to a bar more than once a month and are over the age of 25\n",
    "\n",
    "age_condition = (\n",
    "    (bar_coupons_df['age'] == '26') |\n",
    "    (bar_coupons_df['age'] == '31') |\n",
    "    (bar_coupons_df['age'] == '50plus') |\n",
    "    (bar_coupons_df['age'] == '36') |\n",
    "    (bar_coupons_df['age'] == '41') |\n",
    "    (bar_coupons_df['age'] == '46')\n",
    ")\n",
    "\n",
    "bar_frequency_condition = (\n",
    "    (bar_coupons_df['Bar'] == 'gt8') |\n",
    "    (bar_coupons_df['Bar'] == '4~8') |\n",
    "    (bar_coupons_df['Bar'] == '1~3')\n",
    ")  # Assuming 'gt8', '4~8' and '1~3'  means more than once a month for visiting a bar\n",
    "\n",
    "# Subset of drivers who go to a bar more than once a month and are over the age of 25\n",
    "subset_older_drivers = bar_coupons_df[age_condition & bar_frequency_condition]\n",
    "\n",
    "# Subset of all other drivers\n",
    "subset_other_drivers = bar_coupons_df[~(age_condition & bar_frequency_condition)]\n",
    "\n",
    "# Calculate acceptance rates for both subsets\n",
    "acceptance_rate_older_drivers = subset_older_drivers['Y'].mean()*100\n",
    "acceptance_rate_other_drivers = subset_other_drivers['Y'].mean()*100\n",
    "\n",
    "# Compare the acceptance rates\n",
    "print(f\"Acceptance rate for drivers over 25 visiting a bar more than once a month: {acceptance_rate_older_drivers: .2f} %\")\n",
    "print(f\"Acceptance rate for all other drivers: {acceptance_rate_other_drivers: .2f} %\")\n",
    "\n",
    "# Check if there's a difference in acceptance rates\n",
    "if acceptance_rate_older_drivers != acceptance_rate_other_drivers:\n",
    "    print(\"There is a difference in acceptance rates between the two groups.\")\n",
    "else:\n",
    "    print(\"There is no difference in acceptance rates between the two groups.\")\n"
   ]
  },
  {
   "cell_type": "markdown",
   "metadata": {},
   "source": [
    "5. Use the same process to compare the acceptance rate between drivers who go to bars more than once a month and had passengers that were not a kid and had occupations other than farming, fishing, or forestry. \n"
   ]
  },
  {
   "cell_type": "code",
   "execution_count": 203,
   "metadata": {},
   "outputs": [
    {
     "name": "stdout",
     "output_type": "stream",
     "text": [
      "Acceptance rate for drivers who go to bars more than once a month and had passengers that were not kids and had occupations other than farming, fishing, or forestry: 68.79 %\n"
     ]
    }
   ],
   "source": [
    "# Filtering the DataFrame based on the specified conditions\n",
    "\n",
    "bar_condition_5 = (bar_coupons_df['Bar'] == 'gt8') | (bar_coupons_df['Bar'] == '4~8')  | (bar_coupons_df['Bar'] == '1~3')\n",
    "kids_condition_5 = (bar_coupons_df['has_children'] != 'Kid(s)')\n",
    "occupation_condition_5 = ~(bar_coupons_df['occupation'].isin(['Farming, Fishing, or Forestry']))\n",
    "\n",
    "filtered_df_5 = bar_coupons_df[bar_condition_5 & kids_condition_5 & occupation_condition_5]\n",
    "\n",
    "# Calculate the acceptance rates\n",
    "\n",
    "acceptance_rate_5_m =  filtered_df_5['Y'].mean()*100\n",
    "\n",
    "\n",
    "\n",
    "print(f\"Acceptance rate for drivers who go to bars more than once a month \"\n",
    "      f\"and had passengers that were not kids and had occupations other than \"\n",
    "      f\"farming, fishing, or forestry: {acceptance_rate_5_m:.2f} %\")\n",
    "\n",
    "\n"
   ]
  },
  {
   "cell_type": "markdown",
   "metadata": {},
   "source": [
    "6. Compare the acceptance rates between those drivers who:\n",
    "\n",
    "- go to bars more than once a month, had passengers that were not a kid, and were not widowed *OR*\n",
    "- go to bars more than once a month and are under the age of 30 *OR*\n",
    "- go to cheap restaurants more than 4 times a month and income is less than 50K. \n",
    "\n"
   ]
  },
  {
   "cell_type": "code",
   "execution_count": 204,
   "metadata": {},
   "outputs": [
    {
     "name": "stdout",
     "output_type": "stream",
     "text": [
      "Acceptance rate for drivers who go to bars > once a month, passengers not kids, and not widowed:  0.71%\n",
      "Acceptance rate for all other drivers:  0.30%\n",
      "Drivers who meet the specified conditions have a higher acceptance rate.\n"
     ]
    }
   ],
   "source": [
    "#Condition 1: Drivers who go to bars more than once a month, had passengers that were not a kid, and were not widowed.\n",
    "\n",
    "# Assuming bar_coupons_df is your DataFrame containing the provided dataset\n",
    "# Filtering for drivers who go to bars more than once a month, had passengers that were not kids, and were not widowed\n",
    "bar_condition = (bar_coupons_df['Bar'] == 'gt8') | (bar_coupons_df['Bar'] == '4~8') | (bar_coupons_df['Bar'] == '1~3')  # Considering '1~3' 'gt8' and '4~8' as more than once a month for visiting a bar\n",
    "passenger_condition = (bar_coupons_df['passanger'] != 'Kid(s)')\n",
    "marital_condition = (bar_coupons_df['maritalStatus'] != 'Widowed')\n",
    "\n",
    "filtered_df = bar_coupons_df[bar_condition & passenger_condition & marital_condition]\n",
    "\n",
    "# Calculate acceptance rates for drivers who meet the specified conditions\n",
    "acceptance_rate_filtered = filtered_df['Y'].mean()\n",
    "\n",
    "# Calculate acceptance rates for all other drivers\n",
    "other_condition = ~(bar_condition & passenger_condition & marital_condition)\n",
    "other_drivers_df = bar_coupons_df[other_condition]\n",
    "acceptance_rate_other = other_drivers_df['Y'].mean()\n",
    "\n",
    "# Display the acceptance rates for comparison\n",
    "print(f\"Acceptance rate for drivers who go to bars > once a month, passengers not kids, and not widowed: {acceptance_rate_filtered: .2f}%\")\n",
    "print(f\"Acceptance rate for all other drivers: {acceptance_rate_other: .2f}%\")\n",
    "\n",
    "# Compare the acceptance rates\n",
    "if acceptance_rate_filtered > acceptance_rate_other:\n",
    "    print(\"Drivers who meet the specified conditions have a higher acceptance rate.\")\n",
    "elif acceptance_rate_filtered < acceptance_rate_other:\n",
    "    print(\"Drivers who meet the specified conditions have a lower acceptance rate.\")\n",
    "else:\n",
    "    print(\"Acceptance rates are the same for both groups.\")\n"
   ]
  },
  {
   "cell_type": "code",
   "execution_count": 205,
   "metadata": {},
   "outputs": [
    {
     "name": "stdout",
     "output_type": "stream",
     "text": [
      "Acceptance rate for drivers who go to bars > once a month and are under the age of 30:  72.17%\n",
      "Acceptance rate for all other drivers:  34.57%\n",
      "Drivers who go to bars > once a month and are under the age of 30 have a higher acceptance rate.\n"
     ]
    }
   ],
   "source": [
    "#Condition 2: Drivers who go to bars more than once a month and are under the age of 30\n",
    "\n",
    "\n",
    "\n",
    "# Assuming bar_coupons_df is your DataFrame containing the provided dataset\n",
    "# Filtering for drivers who go to bars more than once a month and are under the age of 30\n",
    "bar_condition = (bar_coupons_df['Bar'] == 'gt8') | (bar_coupons_df['Bar'] == '4~8') | (bar_coupons_df['Bar'] == '1~3')  # Considering '1~3' 'gt8' and '4~8' as more than once a month for visiting a bar\n",
    "age_condition = (bar_coupons_df['age'] == '21') | (bar_coupons_df['age'] == '26') | (bar_coupons_df['age'] == 'below21')\n",
    "\n",
    "filtered_df = bar_coupons_df[bar_condition & age_condition]\n",
    "\n",
    "# Calculate acceptance rates for drivers who go to bars more than once a month and are under the age of 30\n",
    "acceptance_rate_filtered = filtered_df['Y'].mean()*100\n",
    "\n",
    "# Calculate acceptance rates for all other drivers\n",
    "other_condition = ~(bar_condition & age_condition)\n",
    "other_drivers_df = bar_coupons_df[other_condition]\n",
    "acceptance_rate_other = other_drivers_df['Y'].mean()*100\n",
    "\n",
    "# Display the acceptance rates for comparison\n",
    "print(f\"Acceptance rate for drivers who go to bars > once a month and are under the age of 30: {acceptance_rate_filtered: .2f}%\")\n",
    "print(f\"Acceptance rate for all other drivers: {acceptance_rate_other: .2f}%\")\n",
    "\n",
    "# Compare the acceptance rates\n",
    "if acceptance_rate_filtered > acceptance_rate_other:\n",
    "    print(\"Drivers who go to bars > once a month and are under the age of 30 have a higher acceptance rate.\")\n",
    "elif acceptance_rate_filtered < acceptance_rate_other:\n",
    "    print(\"Drivers who go to bars > once a month and are under the age of 30 have a lower acceptance rate.\")\n",
    "else:\n",
    "    print(\"Acceptance rates are the same for both groups.\")\n"
   ]
  },
  {
   "cell_type": "code",
   "execution_count": 206,
   "metadata": {},
   "outputs": [
    {
     "name": "stdout",
     "output_type": "stream",
     "text": [
      "Acceptance rate for drivers who go to cheap restaurants > 4 times a month and income < $50,000:  43.90%\n",
      "Acceptance rate for all other drivers:  40.60%\n",
      "Drivers who go to cheap restaurants > 4 times a month and have income < $50,000 have a higher acceptance rate.\n"
     ]
    }
   ],
   "source": [
    "# Condition 3: Drivers who go to cheap restaurants more than 4 times a month and income is less than 50K.\n",
    "\n",
    "# Assuming bar_coupons_df is your DataFrame containing the provided dataset\n",
    "# Filtering for individuals who go to cheap restaurants more than 4 times a month and have income less than $50,000\n",
    "restaurant_condition = (bar_coupons_df['RestaurantLessThan20'] == '4~8') | (bar_coupons_df['RestaurantLessThan20'] == 'gt8')  # '4~8' and 'gt8' represent more than 4 times a month\n",
    "income_condition = (bar_coupons_df['income'] == 'Less than $12500') | (bar_coupons_df['income'] == '$12500 - $24999') | (bar_coupons_df['income'] == '$25000 - $37499')\n",
    "\n",
    "filtered_df = bar_coupons_df[restaurant_condition & income_condition]\n",
    "\n",
    "# Calculate acceptance rates for drivers who go to cheap restaurants more than 4 times a month and have income less than $50,000\n",
    "acceptance_rate_filtered = filtered_df['Y'].mean()*100\n",
    "\n",
    "# Calculate acceptance rates for all other drivers\n",
    "other_restaurant_conditions = ~(restaurant_condition & income_condition)\n",
    "other_drivers_df = bar_coupons_df[other_restaurant_conditions]\n",
    "acceptance_rate_other = other_drivers_df['Y'].mean()*100\n",
    "\n",
    "# Display the acceptance rates for comparison\n",
    "print(f\"Acceptance rate for drivers who go to cheap restaurants > 4 times a month and income < $50,000: {acceptance_rate_filtered: .2f}%\")\n",
    "print(f\"Acceptance rate for all other drivers: {acceptance_rate_other: .2f}%\")\n",
    "\n",
    "# Compare the acceptance rates\n",
    "if acceptance_rate_filtered > acceptance_rate_other:\n",
    "    print(\"Drivers who go to cheap restaurants > 4 times a month and have income < $50,000 have a higher acceptance rate.\")\n",
    "elif acceptance_rate_filtered < acceptance_rate_other:\n",
    "    print(\"Drivers who go to cheap restaurants > 4 times a month and have income < $50,000 have a lower acceptance rate.\")\n",
    "else:\n",
    "    print(\"Acceptance rates are the same for both groups.\")\n"
   ]
  },
  {
   "cell_type": "code",
   "execution_count": 207,
   "metadata": {},
   "outputs": [],
   "source": [
    "# Displaying acceptance rates for each condition\n",
    "#condition1: Acceptance rate for drivers who go to bars > once a month, passengers not kids, and not widowed: 71.32%\n",
    "#condition2: Acceptance rate for drivers who go to bars > once a month and are under the age of 30: 72.17%\n",
    "#condition3: Acceptance rate for drivers who go to cheap restaurants > 4 times a month and income < $50,000: 43.90%\n"
   ]
  },
  {
   "cell_type": "markdown",
   "metadata": {},
   "source": [
    "7.  Based on these observations, what do you hypothesize about drivers who accepted the bar coupons?"
   ]
  },
  {
   "cell_type": "code",
   "execution_count": 236,
   "metadata": {},
   "outputs": [],
   "source": [
    "###########################################################################################################################\n",
    "#  Summary of the Investigating the Bar Coupons\n",
    "#\n",
    "###########################################################################################################################\n",
    "\n",
    "#-------------------------------------------------------------------------------------------------------------------\n",
    "# The sub-section 1 summary:\n",
    "#  bar_coupons_df = df[df['coupon'] == 'Bar']\n",
    "#\n",
    "#-------------------------------------------------------------------------------------------------------------------\n",
    "# The sub-section 2 summary:\n",
    "# The proportion of accepted 'Bar' coupons: 41.00 %\n",
    "#\n",
    "#-------------------------------------------------------------------------------------------------------------------\n",
    "# The sub-section 3 summary:\n",
    "#  Acceptance rate for drivers who went to a bar 3 or fewer times a month:   52.74%\n",
    "#  Acceptance rate for drivers who went to a bar more than 3 times a month:  76.88%\n",
    "#  Drivers who went to a bar more than 3 times a month have a higher acceptance rate.\n",
    "#\n",
    "#-------------------------------------------------------------------------------------------------------------------\n",
    "# The sub-section 4 summary:\n",
    "#  Acceptance rate for drivers over 25 visiting a bar more than once a month:  69.52 %\n",
    "#  Acceptance rate for all other drivers:  33.50 %\n",
    "#  There is a difference in acceptance rates between the two groups.\n",
    "#-------------------------------------------------------------------------------------------------------------------\n",
    "# The sub-section 5 summary:\n",
    "#  Acceptance rate for drivers who go to bars more than once a month and had passengers that were not kids and \n",
    "#  had occupations other than farming, fishing, or forestry: 68.79 %\n",
    "#\n",
    "#-------------------------------------------------------------------------------------------------------------------\n",
    "# The sub-section 6 summary:\n",
    "# The drivers who accepted the bar coupons are most likely either (for Acceptance rate more than 50%):\n",
    "# - Drivers who go to bars more than once once a month, passengers not kids, and not widowed: 71.32%\n",
    "# - Drivers who go to bars more than once once a month and are under the age of 30: 72.17%\n"
   ]
  },
  {
   "cell_type": "code",
   "execution_count": null,
   "metadata": {},
   "outputs": [],
   "source": [
    "###########################################################################################################################\n",
    "#  Answer to sub-section 7 question: \n",
    "#  Based on these observations, what do you hypothesize about drivers who accepted the bar coupons? \n",
    "#\n",
    "###########################################################################################################################\n",
    "#  \n",
    "#  Based on the above observations, The drivers who accepted the bar coupons are most likely either (for Acceptance rate more than 50%):\n",
    "# - Drivers who go to bars more than once once a month, passengers not kids, and not widowed (Acceptance rate of 71.32%)\n",
    "# - Drivers who go to bars more than once once a month and are under the age of 30 (Acceptance rate of 72.17%)\n",
    "# - Drivers who go to bars more than once a month and had passengers that were not kids and \n",
    "#   had occupations other than farming, fishing, or forestry (Acceptance rate of 68.79 %)\n",
    "# - Drivers over 25 visiting a bar more than once a month (Acceptance rate of  69.52 %)\n",
    "# - Drivers who went to a bar more than 3 times a month (Acceptance rate of 76.88%)\n",
    "#- \n",
    "#########################################################################################################################"
   ]
  },
  {
   "cell_type": "markdown",
   "metadata": {},
   "source": [
    "### Independent Investigation\n",
    "\n",
    "Using the bar coupon example as motivation, you are to explore one of the other coupon groups and try to determine the characteristics of passengers who accept the coupons.  "
   ]
  },
  {
   "cell_type": "code",
   "execution_count": 256,
   "metadata": {
    "scrolled": true
   },
   "outputs": [
    {
     "data": {
      "text/plain": [
       "coupon\n",
       "Coffee House             3996\n",
       "Restaurant(<20)          2786\n",
       "Carry out & Take away    2393\n",
       "Bar                      2017\n",
       "Restaurant(20-50)        1492\n",
       "Name: count, dtype: int64"
      ]
     },
     "execution_count": 256,
     "metadata": {},
     "output_type": "execute_result"
    }
   ],
   "source": [
    "# Investigating the other coupons to pick one to study further\n",
    "\n",
    "df['coupon'].value_counts()"
   ]
  },
  {
   "cell_type": "code",
   "execution_count": 257,
   "metadata": {},
   "outputs": [
    {
     "data": {
      "application/vnd.plotly.v1+json": {
       "config": {
        "plotlyServerURL": "https://plot.ly"
       },
       "data": [
        {
         "alignmentgroup": "True",
         "hovertemplate": "Coupon=%{x}<br>Count=%{y}<extra></extra>",
         "legendgroup": "",
         "marker": {
          "color": "#636efa",
          "pattern": {
           "shape": ""
          }
         },
         "name": "",
         "offsetgroup": "",
         "orientation": "v",
         "showlegend": false,
         "textposition": "auto",
         "type": "bar",
         "x": [
          "Coffee House",
          "Restaurant(<20)",
          "Carry out & Take away",
          "Bar",
          "Restaurant(20-50)"
         ],
         "xaxis": "x",
         "y": [
          3996,
          2786,
          2393,
          2017,
          1492
         ],
         "yaxis": "y"
        }
       ],
       "layout": {
        "barmode": "relative",
        "legend": {
         "tracegroupgap": 0
        },
        "template": {
         "data": {
          "bar": [
           {
            "error_x": {
             "color": "#2a3f5f"
            },
            "error_y": {
             "color": "#2a3f5f"
            },
            "marker": {
             "line": {
              "color": "#E5ECF6",
              "width": 0.5
             },
             "pattern": {
              "fillmode": "overlay",
              "size": 10,
              "solidity": 0.2
             }
            },
            "type": "bar"
           }
          ],
          "barpolar": [
           {
            "marker": {
             "line": {
              "color": "#E5ECF6",
              "width": 0.5
             },
             "pattern": {
              "fillmode": "overlay",
              "size": 10,
              "solidity": 0.2
             }
            },
            "type": "barpolar"
           }
          ],
          "carpet": [
           {
            "aaxis": {
             "endlinecolor": "#2a3f5f",
             "gridcolor": "white",
             "linecolor": "white",
             "minorgridcolor": "white",
             "startlinecolor": "#2a3f5f"
            },
            "baxis": {
             "endlinecolor": "#2a3f5f",
             "gridcolor": "white",
             "linecolor": "white",
             "minorgridcolor": "white",
             "startlinecolor": "#2a3f5f"
            },
            "type": "carpet"
           }
          ],
          "choropleth": [
           {
            "colorbar": {
             "outlinewidth": 0,
             "ticks": ""
            },
            "type": "choropleth"
           }
          ],
          "contour": [
           {
            "colorbar": {
             "outlinewidth": 0,
             "ticks": ""
            },
            "colorscale": [
             [
              0,
              "#0d0887"
             ],
             [
              0.1111111111111111,
              "#46039f"
             ],
             [
              0.2222222222222222,
              "#7201a8"
             ],
             [
              0.3333333333333333,
              "#9c179e"
             ],
             [
              0.4444444444444444,
              "#bd3786"
             ],
             [
              0.5555555555555556,
              "#d8576b"
             ],
             [
              0.6666666666666666,
              "#ed7953"
             ],
             [
              0.7777777777777778,
              "#fb9f3a"
             ],
             [
              0.8888888888888888,
              "#fdca26"
             ],
             [
              1,
              "#f0f921"
             ]
            ],
            "type": "contour"
           }
          ],
          "contourcarpet": [
           {
            "colorbar": {
             "outlinewidth": 0,
             "ticks": ""
            },
            "type": "contourcarpet"
           }
          ],
          "heatmap": [
           {
            "colorbar": {
             "outlinewidth": 0,
             "ticks": ""
            },
            "colorscale": [
             [
              0,
              "#0d0887"
             ],
             [
              0.1111111111111111,
              "#46039f"
             ],
             [
              0.2222222222222222,
              "#7201a8"
             ],
             [
              0.3333333333333333,
              "#9c179e"
             ],
             [
              0.4444444444444444,
              "#bd3786"
             ],
             [
              0.5555555555555556,
              "#d8576b"
             ],
             [
              0.6666666666666666,
              "#ed7953"
             ],
             [
              0.7777777777777778,
              "#fb9f3a"
             ],
             [
              0.8888888888888888,
              "#fdca26"
             ],
             [
              1,
              "#f0f921"
             ]
            ],
            "type": "heatmap"
           }
          ],
          "heatmapgl": [
           {
            "colorbar": {
             "outlinewidth": 0,
             "ticks": ""
            },
            "colorscale": [
             [
              0,
              "#0d0887"
             ],
             [
              0.1111111111111111,
              "#46039f"
             ],
             [
              0.2222222222222222,
              "#7201a8"
             ],
             [
              0.3333333333333333,
              "#9c179e"
             ],
             [
              0.4444444444444444,
              "#bd3786"
             ],
             [
              0.5555555555555556,
              "#d8576b"
             ],
             [
              0.6666666666666666,
              "#ed7953"
             ],
             [
              0.7777777777777778,
              "#fb9f3a"
             ],
             [
              0.8888888888888888,
              "#fdca26"
             ],
             [
              1,
              "#f0f921"
             ]
            ],
            "type": "heatmapgl"
           }
          ],
          "histogram": [
           {
            "marker": {
             "pattern": {
              "fillmode": "overlay",
              "size": 10,
              "solidity": 0.2
             }
            },
            "type": "histogram"
           }
          ],
          "histogram2d": [
           {
            "colorbar": {
             "outlinewidth": 0,
             "ticks": ""
            },
            "colorscale": [
             [
              0,
              "#0d0887"
             ],
             [
              0.1111111111111111,
              "#46039f"
             ],
             [
              0.2222222222222222,
              "#7201a8"
             ],
             [
              0.3333333333333333,
              "#9c179e"
             ],
             [
              0.4444444444444444,
              "#bd3786"
             ],
             [
              0.5555555555555556,
              "#d8576b"
             ],
             [
              0.6666666666666666,
              "#ed7953"
             ],
             [
              0.7777777777777778,
              "#fb9f3a"
             ],
             [
              0.8888888888888888,
              "#fdca26"
             ],
             [
              1,
              "#f0f921"
             ]
            ],
            "type": "histogram2d"
           }
          ],
          "histogram2dcontour": [
           {
            "colorbar": {
             "outlinewidth": 0,
             "ticks": ""
            },
            "colorscale": [
             [
              0,
              "#0d0887"
             ],
             [
              0.1111111111111111,
              "#46039f"
             ],
             [
              0.2222222222222222,
              "#7201a8"
             ],
             [
              0.3333333333333333,
              "#9c179e"
             ],
             [
              0.4444444444444444,
              "#bd3786"
             ],
             [
              0.5555555555555556,
              "#d8576b"
             ],
             [
              0.6666666666666666,
              "#ed7953"
             ],
             [
              0.7777777777777778,
              "#fb9f3a"
             ],
             [
              0.8888888888888888,
              "#fdca26"
             ],
             [
              1,
              "#f0f921"
             ]
            ],
            "type": "histogram2dcontour"
           }
          ],
          "mesh3d": [
           {
            "colorbar": {
             "outlinewidth": 0,
             "ticks": ""
            },
            "type": "mesh3d"
           }
          ],
          "parcoords": [
           {
            "line": {
             "colorbar": {
              "outlinewidth": 0,
              "ticks": ""
             }
            },
            "type": "parcoords"
           }
          ],
          "pie": [
           {
            "automargin": true,
            "type": "pie"
           }
          ],
          "scatter": [
           {
            "fillpattern": {
             "fillmode": "overlay",
             "size": 10,
             "solidity": 0.2
            },
            "type": "scatter"
           }
          ],
          "scatter3d": [
           {
            "line": {
             "colorbar": {
              "outlinewidth": 0,
              "ticks": ""
             }
            },
            "marker": {
             "colorbar": {
              "outlinewidth": 0,
              "ticks": ""
             }
            },
            "type": "scatter3d"
           }
          ],
          "scattercarpet": [
           {
            "marker": {
             "colorbar": {
              "outlinewidth": 0,
              "ticks": ""
             }
            },
            "type": "scattercarpet"
           }
          ],
          "scattergeo": [
           {
            "marker": {
             "colorbar": {
              "outlinewidth": 0,
              "ticks": ""
             }
            },
            "type": "scattergeo"
           }
          ],
          "scattergl": [
           {
            "marker": {
             "colorbar": {
              "outlinewidth": 0,
              "ticks": ""
             }
            },
            "type": "scattergl"
           }
          ],
          "scattermapbox": [
           {
            "marker": {
             "colorbar": {
              "outlinewidth": 0,
              "ticks": ""
             }
            },
            "type": "scattermapbox"
           }
          ],
          "scatterpolar": [
           {
            "marker": {
             "colorbar": {
              "outlinewidth": 0,
              "ticks": ""
             }
            },
            "type": "scatterpolar"
           }
          ],
          "scatterpolargl": [
           {
            "marker": {
             "colorbar": {
              "outlinewidth": 0,
              "ticks": ""
             }
            },
            "type": "scatterpolargl"
           }
          ],
          "scatterternary": [
           {
            "marker": {
             "colorbar": {
              "outlinewidth": 0,
              "ticks": ""
             }
            },
            "type": "scatterternary"
           }
          ],
          "surface": [
           {
            "colorbar": {
             "outlinewidth": 0,
             "ticks": ""
            },
            "colorscale": [
             [
              0,
              "#0d0887"
             ],
             [
              0.1111111111111111,
              "#46039f"
             ],
             [
              0.2222222222222222,
              "#7201a8"
             ],
             [
              0.3333333333333333,
              "#9c179e"
             ],
             [
              0.4444444444444444,
              "#bd3786"
             ],
             [
              0.5555555555555556,
              "#d8576b"
             ],
             [
              0.6666666666666666,
              "#ed7953"
             ],
             [
              0.7777777777777778,
              "#fb9f3a"
             ],
             [
              0.8888888888888888,
              "#fdca26"
             ],
             [
              1,
              "#f0f921"
             ]
            ],
            "type": "surface"
           }
          ],
          "table": [
           {
            "cells": {
             "fill": {
              "color": "#EBF0F8"
             },
             "line": {
              "color": "white"
             }
            },
            "header": {
             "fill": {
              "color": "#C8D4E3"
             },
             "line": {
              "color": "white"
             }
            },
            "type": "table"
           }
          ]
         },
         "layout": {
          "annotationdefaults": {
           "arrowcolor": "#2a3f5f",
           "arrowhead": 0,
           "arrowwidth": 1
          },
          "autotypenumbers": "strict",
          "coloraxis": {
           "colorbar": {
            "outlinewidth": 0,
            "ticks": ""
           }
          },
          "colorscale": {
           "diverging": [
            [
             0,
             "#8e0152"
            ],
            [
             0.1,
             "#c51b7d"
            ],
            [
             0.2,
             "#de77ae"
            ],
            [
             0.3,
             "#f1b6da"
            ],
            [
             0.4,
             "#fde0ef"
            ],
            [
             0.5,
             "#f7f7f7"
            ],
            [
             0.6,
             "#e6f5d0"
            ],
            [
             0.7,
             "#b8e186"
            ],
            [
             0.8,
             "#7fbc41"
            ],
            [
             0.9,
             "#4d9221"
            ],
            [
             1,
             "#276419"
            ]
           ],
           "sequential": [
            [
             0,
             "#0d0887"
            ],
            [
             0.1111111111111111,
             "#46039f"
            ],
            [
             0.2222222222222222,
             "#7201a8"
            ],
            [
             0.3333333333333333,
             "#9c179e"
            ],
            [
             0.4444444444444444,
             "#bd3786"
            ],
            [
             0.5555555555555556,
             "#d8576b"
            ],
            [
             0.6666666666666666,
             "#ed7953"
            ],
            [
             0.7777777777777778,
             "#fb9f3a"
            ],
            [
             0.8888888888888888,
             "#fdca26"
            ],
            [
             1,
             "#f0f921"
            ]
           ],
           "sequentialminus": [
            [
             0,
             "#0d0887"
            ],
            [
             0.1111111111111111,
             "#46039f"
            ],
            [
             0.2222222222222222,
             "#7201a8"
            ],
            [
             0.3333333333333333,
             "#9c179e"
            ],
            [
             0.4444444444444444,
             "#bd3786"
            ],
            [
             0.5555555555555556,
             "#d8576b"
            ],
            [
             0.6666666666666666,
             "#ed7953"
            ],
            [
             0.7777777777777778,
             "#fb9f3a"
            ],
            [
             0.8888888888888888,
             "#fdca26"
            ],
            [
             1,
             "#f0f921"
            ]
           ]
          },
          "colorway": [
           "#636efa",
           "#EF553B",
           "#00cc96",
           "#ab63fa",
           "#FFA15A",
           "#19d3f3",
           "#FF6692",
           "#B6E880",
           "#FF97FF",
           "#FECB52"
          ],
          "font": {
           "color": "#2a3f5f"
          },
          "geo": {
           "bgcolor": "white",
           "lakecolor": "white",
           "landcolor": "#E5ECF6",
           "showlakes": true,
           "showland": true,
           "subunitcolor": "white"
          },
          "hoverlabel": {
           "align": "left"
          },
          "hovermode": "closest",
          "mapbox": {
           "style": "light"
          },
          "paper_bgcolor": "white",
          "plot_bgcolor": "#E5ECF6",
          "polar": {
           "angularaxis": {
            "gridcolor": "white",
            "linecolor": "white",
            "ticks": ""
           },
           "bgcolor": "#E5ECF6",
           "radialaxis": {
            "gridcolor": "white",
            "linecolor": "white",
            "ticks": ""
           }
          },
          "scene": {
           "xaxis": {
            "backgroundcolor": "#E5ECF6",
            "gridcolor": "white",
            "gridwidth": 2,
            "linecolor": "white",
            "showbackground": true,
            "ticks": "",
            "zerolinecolor": "white"
           },
           "yaxis": {
            "backgroundcolor": "#E5ECF6",
            "gridcolor": "white",
            "gridwidth": 2,
            "linecolor": "white",
            "showbackground": true,
            "ticks": "",
            "zerolinecolor": "white"
           },
           "zaxis": {
            "backgroundcolor": "#E5ECF6",
            "gridcolor": "white",
            "gridwidth": 2,
            "linecolor": "white",
            "showbackground": true,
            "ticks": "",
            "zerolinecolor": "white"
           }
          },
          "shapedefaults": {
           "line": {
            "color": "#2a3f5f"
           }
          },
          "ternary": {
           "aaxis": {
            "gridcolor": "white",
            "linecolor": "white",
            "ticks": ""
           },
           "baxis": {
            "gridcolor": "white",
            "linecolor": "white",
            "ticks": ""
           },
           "bgcolor": "#E5ECF6",
           "caxis": {
            "gridcolor": "white",
            "linecolor": "white",
            "ticks": ""
           }
          },
          "title": {
           "x": 0.05
          },
          "xaxis": {
           "automargin": true,
           "gridcolor": "white",
           "linecolor": "white",
           "ticks": "",
           "title": {
            "standoff": 15
           },
           "zerolinecolor": "white",
           "zerolinewidth": 2
          },
          "yaxis": {
           "automargin": true,
           "gridcolor": "white",
           "linecolor": "white",
           "ticks": "",
           "title": {
            "standoff": 15
           },
           "zerolinecolor": "white",
           "zerolinewidth": 2
          }
         }
        },
        "title": {
         "text": "Count of Each Coupon"
        },
        "xaxis": {
         "anchor": "y",
         "domain": [
          0,
          1
         ],
         "title": {
          "text": "Coupon"
         }
        },
        "yaxis": {
         "anchor": "x",
         "domain": [
          0,
          1
         ],
         "title": {
          "text": "Count"
         }
        }
       }
      },
      "text/html": [
       "<div>                            <div id=\"a7c1cc5e-b09f-427e-a7c1-1016b845d5d4\" class=\"plotly-graph-div\" style=\"height:525px; width:100%;\"></div>            <script type=\"text/javascript\">                require([\"plotly\"], function(Plotly) {                    window.PLOTLYENV=window.PLOTLYENV || {};                                    if (document.getElementById(\"a7c1cc5e-b09f-427e-a7c1-1016b845d5d4\")) {                    Plotly.newPlot(                        \"a7c1cc5e-b09f-427e-a7c1-1016b845d5d4\",                        [{\"alignmentgroup\":\"True\",\"hovertemplate\":\"Coupon=%{x}<br>Count=%{y}<extra></extra>\",\"legendgroup\":\"\",\"marker\":{\"color\":\"#636efa\",\"pattern\":{\"shape\":\"\"}},\"name\":\"\",\"offsetgroup\":\"\",\"orientation\":\"v\",\"showlegend\":false,\"textposition\":\"auto\",\"x\":[\"Coffee House\",\"Restaurant(<20)\",\"Carry out & Take away\",\"Bar\",\"Restaurant(20-50)\"],\"xaxis\":\"x\",\"y\":[3996,2786,2393,2017,1492],\"yaxis\":\"y\",\"type\":\"bar\"}],                        {\"template\":{\"data\":{\"histogram2dcontour\":[{\"type\":\"histogram2dcontour\",\"colorbar\":{\"outlinewidth\":0,\"ticks\":\"\"},\"colorscale\":[[0.0,\"#0d0887\"],[0.1111111111111111,\"#46039f\"],[0.2222222222222222,\"#7201a8\"],[0.3333333333333333,\"#9c179e\"],[0.4444444444444444,\"#bd3786\"],[0.5555555555555556,\"#d8576b\"],[0.6666666666666666,\"#ed7953\"],[0.7777777777777778,\"#fb9f3a\"],[0.8888888888888888,\"#fdca26\"],[1.0,\"#f0f921\"]]}],\"choropleth\":[{\"type\":\"choropleth\",\"colorbar\":{\"outlinewidth\":0,\"ticks\":\"\"}}],\"histogram2d\":[{\"type\":\"histogram2d\",\"colorbar\":{\"outlinewidth\":0,\"ticks\":\"\"},\"colorscale\":[[0.0,\"#0d0887\"],[0.1111111111111111,\"#46039f\"],[0.2222222222222222,\"#7201a8\"],[0.3333333333333333,\"#9c179e\"],[0.4444444444444444,\"#bd3786\"],[0.5555555555555556,\"#d8576b\"],[0.6666666666666666,\"#ed7953\"],[0.7777777777777778,\"#fb9f3a\"],[0.8888888888888888,\"#fdca26\"],[1.0,\"#f0f921\"]]}],\"heatmap\":[{\"type\":\"heatmap\",\"colorbar\":{\"outlinewidth\":0,\"ticks\":\"\"},\"colorscale\":[[0.0,\"#0d0887\"],[0.1111111111111111,\"#46039f\"],[0.2222222222222222,\"#7201a8\"],[0.3333333333333333,\"#9c179e\"],[0.4444444444444444,\"#bd3786\"],[0.5555555555555556,\"#d8576b\"],[0.6666666666666666,\"#ed7953\"],[0.7777777777777778,\"#fb9f3a\"],[0.8888888888888888,\"#fdca26\"],[1.0,\"#f0f921\"]]}],\"heatmapgl\":[{\"type\":\"heatmapgl\",\"colorbar\":{\"outlinewidth\":0,\"ticks\":\"\"},\"colorscale\":[[0.0,\"#0d0887\"],[0.1111111111111111,\"#46039f\"],[0.2222222222222222,\"#7201a8\"],[0.3333333333333333,\"#9c179e\"],[0.4444444444444444,\"#bd3786\"],[0.5555555555555556,\"#d8576b\"],[0.6666666666666666,\"#ed7953\"],[0.7777777777777778,\"#fb9f3a\"],[0.8888888888888888,\"#fdca26\"],[1.0,\"#f0f921\"]]}],\"contourcarpet\":[{\"type\":\"contourcarpet\",\"colorbar\":{\"outlinewidth\":0,\"ticks\":\"\"}}],\"contour\":[{\"type\":\"contour\",\"colorbar\":{\"outlinewidth\":0,\"ticks\":\"\"},\"colorscale\":[[0.0,\"#0d0887\"],[0.1111111111111111,\"#46039f\"],[0.2222222222222222,\"#7201a8\"],[0.3333333333333333,\"#9c179e\"],[0.4444444444444444,\"#bd3786\"],[0.5555555555555556,\"#d8576b\"],[0.6666666666666666,\"#ed7953\"],[0.7777777777777778,\"#fb9f3a\"],[0.8888888888888888,\"#fdca26\"],[1.0,\"#f0f921\"]]}],\"surface\":[{\"type\":\"surface\",\"colorbar\":{\"outlinewidth\":0,\"ticks\":\"\"},\"colorscale\":[[0.0,\"#0d0887\"],[0.1111111111111111,\"#46039f\"],[0.2222222222222222,\"#7201a8\"],[0.3333333333333333,\"#9c179e\"],[0.4444444444444444,\"#bd3786\"],[0.5555555555555556,\"#d8576b\"],[0.6666666666666666,\"#ed7953\"],[0.7777777777777778,\"#fb9f3a\"],[0.8888888888888888,\"#fdca26\"],[1.0,\"#f0f921\"]]}],\"mesh3d\":[{\"type\":\"mesh3d\",\"colorbar\":{\"outlinewidth\":0,\"ticks\":\"\"}}],\"scatter\":[{\"fillpattern\":{\"fillmode\":\"overlay\",\"size\":10,\"solidity\":0.2},\"type\":\"scatter\"}],\"parcoords\":[{\"type\":\"parcoords\",\"line\":{\"colorbar\":{\"outlinewidth\":0,\"ticks\":\"\"}}}],\"scatterpolargl\":[{\"type\":\"scatterpolargl\",\"marker\":{\"colorbar\":{\"outlinewidth\":0,\"ticks\":\"\"}}}],\"bar\":[{\"error_x\":{\"color\":\"#2a3f5f\"},\"error_y\":{\"color\":\"#2a3f5f\"},\"marker\":{\"line\":{\"color\":\"#E5ECF6\",\"width\":0.5},\"pattern\":{\"fillmode\":\"overlay\",\"size\":10,\"solidity\":0.2}},\"type\":\"bar\"}],\"scattergeo\":[{\"type\":\"scattergeo\",\"marker\":{\"colorbar\":{\"outlinewidth\":0,\"ticks\":\"\"}}}],\"scatterpolar\":[{\"type\":\"scatterpolar\",\"marker\":{\"colorbar\":{\"outlinewidth\":0,\"ticks\":\"\"}}}],\"histogram\":[{\"marker\":{\"pattern\":{\"fillmode\":\"overlay\",\"size\":10,\"solidity\":0.2}},\"type\":\"histogram\"}],\"scattergl\":[{\"type\":\"scattergl\",\"marker\":{\"colorbar\":{\"outlinewidth\":0,\"ticks\":\"\"}}}],\"scatter3d\":[{\"type\":\"scatter3d\",\"line\":{\"colorbar\":{\"outlinewidth\":0,\"ticks\":\"\"}},\"marker\":{\"colorbar\":{\"outlinewidth\":0,\"ticks\":\"\"}}}],\"scattermapbox\":[{\"type\":\"scattermapbox\",\"marker\":{\"colorbar\":{\"outlinewidth\":0,\"ticks\":\"\"}}}],\"scatterternary\":[{\"type\":\"scatterternary\",\"marker\":{\"colorbar\":{\"outlinewidth\":0,\"ticks\":\"\"}}}],\"scattercarpet\":[{\"type\":\"scattercarpet\",\"marker\":{\"colorbar\":{\"outlinewidth\":0,\"ticks\":\"\"}}}],\"carpet\":[{\"aaxis\":{\"endlinecolor\":\"#2a3f5f\",\"gridcolor\":\"white\",\"linecolor\":\"white\",\"minorgridcolor\":\"white\",\"startlinecolor\":\"#2a3f5f\"},\"baxis\":{\"endlinecolor\":\"#2a3f5f\",\"gridcolor\":\"white\",\"linecolor\":\"white\",\"minorgridcolor\":\"white\",\"startlinecolor\":\"#2a3f5f\"},\"type\":\"carpet\"}],\"table\":[{\"cells\":{\"fill\":{\"color\":\"#EBF0F8\"},\"line\":{\"color\":\"white\"}},\"header\":{\"fill\":{\"color\":\"#C8D4E3\"},\"line\":{\"color\":\"white\"}},\"type\":\"table\"}],\"barpolar\":[{\"marker\":{\"line\":{\"color\":\"#E5ECF6\",\"width\":0.5},\"pattern\":{\"fillmode\":\"overlay\",\"size\":10,\"solidity\":0.2}},\"type\":\"barpolar\"}],\"pie\":[{\"automargin\":true,\"type\":\"pie\"}]},\"layout\":{\"autotypenumbers\":\"strict\",\"colorway\":[\"#636efa\",\"#EF553B\",\"#00cc96\",\"#ab63fa\",\"#FFA15A\",\"#19d3f3\",\"#FF6692\",\"#B6E880\",\"#FF97FF\",\"#FECB52\"],\"font\":{\"color\":\"#2a3f5f\"},\"hovermode\":\"closest\",\"hoverlabel\":{\"align\":\"left\"},\"paper_bgcolor\":\"white\",\"plot_bgcolor\":\"#E5ECF6\",\"polar\":{\"bgcolor\":\"#E5ECF6\",\"angularaxis\":{\"gridcolor\":\"white\",\"linecolor\":\"white\",\"ticks\":\"\"},\"radialaxis\":{\"gridcolor\":\"white\",\"linecolor\":\"white\",\"ticks\":\"\"}},\"ternary\":{\"bgcolor\":\"#E5ECF6\",\"aaxis\":{\"gridcolor\":\"white\",\"linecolor\":\"white\",\"ticks\":\"\"},\"baxis\":{\"gridcolor\":\"white\",\"linecolor\":\"white\",\"ticks\":\"\"},\"caxis\":{\"gridcolor\":\"white\",\"linecolor\":\"white\",\"ticks\":\"\"}},\"coloraxis\":{\"colorbar\":{\"outlinewidth\":0,\"ticks\":\"\"}},\"colorscale\":{\"sequential\":[[0.0,\"#0d0887\"],[0.1111111111111111,\"#46039f\"],[0.2222222222222222,\"#7201a8\"],[0.3333333333333333,\"#9c179e\"],[0.4444444444444444,\"#bd3786\"],[0.5555555555555556,\"#d8576b\"],[0.6666666666666666,\"#ed7953\"],[0.7777777777777778,\"#fb9f3a\"],[0.8888888888888888,\"#fdca26\"],[1.0,\"#f0f921\"]],\"sequentialminus\":[[0.0,\"#0d0887\"],[0.1111111111111111,\"#46039f\"],[0.2222222222222222,\"#7201a8\"],[0.3333333333333333,\"#9c179e\"],[0.4444444444444444,\"#bd3786\"],[0.5555555555555556,\"#d8576b\"],[0.6666666666666666,\"#ed7953\"],[0.7777777777777778,\"#fb9f3a\"],[0.8888888888888888,\"#fdca26\"],[1.0,\"#f0f921\"]],\"diverging\":[[0,\"#8e0152\"],[0.1,\"#c51b7d\"],[0.2,\"#de77ae\"],[0.3,\"#f1b6da\"],[0.4,\"#fde0ef\"],[0.5,\"#f7f7f7\"],[0.6,\"#e6f5d0\"],[0.7,\"#b8e186\"],[0.8,\"#7fbc41\"],[0.9,\"#4d9221\"],[1,\"#276419\"]]},\"xaxis\":{\"gridcolor\":\"white\",\"linecolor\":\"white\",\"ticks\":\"\",\"title\":{\"standoff\":15},\"zerolinecolor\":\"white\",\"automargin\":true,\"zerolinewidth\":2},\"yaxis\":{\"gridcolor\":\"white\",\"linecolor\":\"white\",\"ticks\":\"\",\"title\":{\"standoff\":15},\"zerolinecolor\":\"white\",\"automargin\":true,\"zerolinewidth\":2},\"scene\":{\"xaxis\":{\"backgroundcolor\":\"#E5ECF6\",\"gridcolor\":\"white\",\"linecolor\":\"white\",\"showbackground\":true,\"ticks\":\"\",\"zerolinecolor\":\"white\",\"gridwidth\":2},\"yaxis\":{\"backgroundcolor\":\"#E5ECF6\",\"gridcolor\":\"white\",\"linecolor\":\"white\",\"showbackground\":true,\"ticks\":\"\",\"zerolinecolor\":\"white\",\"gridwidth\":2},\"zaxis\":{\"backgroundcolor\":\"#E5ECF6\",\"gridcolor\":\"white\",\"linecolor\":\"white\",\"showbackground\":true,\"ticks\":\"\",\"zerolinecolor\":\"white\",\"gridwidth\":2}},\"shapedefaults\":{\"line\":{\"color\":\"#2a3f5f\"}},\"annotationdefaults\":{\"arrowcolor\":\"#2a3f5f\",\"arrowhead\":0,\"arrowwidth\":1},\"geo\":{\"bgcolor\":\"white\",\"landcolor\":\"#E5ECF6\",\"subunitcolor\":\"white\",\"showland\":true,\"showlakes\":true,\"lakecolor\":\"white\"},\"title\":{\"x\":0.05},\"mapbox\":{\"style\":\"light\"}}},\"xaxis\":{\"anchor\":\"y\",\"domain\":[0.0,1.0],\"title\":{\"text\":\"Coupon\"}},\"yaxis\":{\"anchor\":\"x\",\"domain\":[0.0,1.0],\"title\":{\"text\":\"Count\"}},\"legend\":{\"tracegroupgap\":0},\"title\":{\"text\":\"Count of Each Coupon\"},\"barmode\":\"relative\"},                        {\"responsive\": true}                    ).then(function(){\n",
       "                            \n",
       "var gd = document.getElementById('a7c1cc5e-b09f-427e-a7c1-1016b845d5d4');\n",
       "var x = new MutationObserver(function (mutations, observer) {{\n",
       "        var display = window.getComputedStyle(gd).display;\n",
       "        if (!display || display === 'none') {{\n",
       "            console.log([gd, 'removed!']);\n",
       "            Plotly.purge(gd);\n",
       "            observer.disconnect();\n",
       "        }}\n",
       "}});\n",
       "\n",
       "// Listen for the removal of the full notebook cells\n",
       "var notebookContainer = gd.closest('#notebook-container');\n",
       "if (notebookContainer) {{\n",
       "    x.observe(notebookContainer, {childList: true});\n",
       "}}\n",
       "\n",
       "// Listen for the clearing of the current output cell\n",
       "var outputEl = gd.closest('.output');\n",
       "if (outputEl) {{\n",
       "    x.observe(outputEl, {childList: true});\n",
       "}}\n",
       "\n",
       "                        })                };                });            </script>        </div>"
      ]
     },
     "metadata": {},
     "output_type": "display_data"
    }
   ],
   "source": [
    "###########################################################\n",
    "# using plotly display all the coupons and pick one\n",
    "###########################################################\n",
    "import plotly.express as px\n",
    "\n",
    "coupon_counts = df['coupon'].value_counts().reset_index()\n",
    "coupon_counts.columns = ['Coupon', 'Count']\n",
    "\n",
    "# Using Plotly to create a bar plot\n",
    "fig = px.bar(coupon_counts, x='Coupon', y='Count', labels={'Coupon': 'Coupon', 'Count': 'Count'},\n",
    "             title='Count of Each Coupon')\n",
    "fig.show()\n",
    "\n",
    "########################################################################################################################\n",
    "#  Based on the plot below will investigate the Coffee House Coupons: biggest share of the coupons. \n",
    "#  Will follow the same methodology as \"bar\" coupon\n",
    "########################################################################################################################\n"
   ]
  },
  {
   "cell_type": "code",
   "execution_count": 258,
   "metadata": {},
   "outputs": [
    {
     "data": {
      "text/html": [
       "<div>\n",
       "<style scoped>\n",
       "    .dataframe tbody tr th:only-of-type {\n",
       "        vertical-align: middle;\n",
       "    }\n",
       "\n",
       "    .dataframe tbody tr th {\n",
       "        vertical-align: top;\n",
       "    }\n",
       "\n",
       "    .dataframe thead th {\n",
       "        text-align: right;\n",
       "    }\n",
       "</style>\n",
       "<table border=\"1\" class=\"dataframe\">\n",
       "  <thead>\n",
       "    <tr style=\"text-align: right;\">\n",
       "      <th></th>\n",
       "      <th>destination</th>\n",
       "      <th>passanger</th>\n",
       "      <th>weather</th>\n",
       "      <th>temperature</th>\n",
       "      <th>time</th>\n",
       "      <th>coupon</th>\n",
       "      <th>expiration</th>\n",
       "      <th>gender</th>\n",
       "      <th>age</th>\n",
       "      <th>maritalStatus</th>\n",
       "      <th>...</th>\n",
       "      <th>CoffeeHouse</th>\n",
       "      <th>CarryAway</th>\n",
       "      <th>RestaurantLessThan20</th>\n",
       "      <th>Restaurant20To50</th>\n",
       "      <th>toCoupon_GEQ5min</th>\n",
       "      <th>toCoupon_GEQ15min</th>\n",
       "      <th>toCoupon_GEQ25min</th>\n",
       "      <th>direction_same</th>\n",
       "      <th>direction_opp</th>\n",
       "      <th>Y</th>\n",
       "    </tr>\n",
       "  </thead>\n",
       "  <tbody>\n",
       "    <tr>\n",
       "      <th>1</th>\n",
       "      <td>No Urgent Place</td>\n",
       "      <td>Friend(s)</td>\n",
       "      <td>Sunny</td>\n",
       "      <td>80</td>\n",
       "      <td>10AM</td>\n",
       "      <td>Coffee House</td>\n",
       "      <td>2h</td>\n",
       "      <td>Female</td>\n",
       "      <td>21</td>\n",
       "      <td>Unmarried partner</td>\n",
       "      <td>...</td>\n",
       "      <td>never</td>\n",
       "      <td>1~3</td>\n",
       "      <td>4~8</td>\n",
       "      <td>1~3</td>\n",
       "      <td>1</td>\n",
       "      <td>0</td>\n",
       "      <td>0</td>\n",
       "      <td>0</td>\n",
       "      <td>1</td>\n",
       "      <td>0</td>\n",
       "    </tr>\n",
       "    <tr>\n",
       "      <th>3</th>\n",
       "      <td>No Urgent Place</td>\n",
       "      <td>Friend(s)</td>\n",
       "      <td>Sunny</td>\n",
       "      <td>80</td>\n",
       "      <td>2PM</td>\n",
       "      <td>Coffee House</td>\n",
       "      <td>2h</td>\n",
       "      <td>Female</td>\n",
       "      <td>21</td>\n",
       "      <td>Unmarried partner</td>\n",
       "      <td>...</td>\n",
       "      <td>never</td>\n",
       "      <td>1~3</td>\n",
       "      <td>4~8</td>\n",
       "      <td>1~3</td>\n",
       "      <td>1</td>\n",
       "      <td>1</td>\n",
       "      <td>0</td>\n",
       "      <td>0</td>\n",
       "      <td>1</td>\n",
       "      <td>0</td>\n",
       "    </tr>\n",
       "    <tr>\n",
       "      <th>4</th>\n",
       "      <td>No Urgent Place</td>\n",
       "      <td>Friend(s)</td>\n",
       "      <td>Sunny</td>\n",
       "      <td>80</td>\n",
       "      <td>2PM</td>\n",
       "      <td>Coffee House</td>\n",
       "      <td>1d</td>\n",
       "      <td>Female</td>\n",
       "      <td>21</td>\n",
       "      <td>Unmarried partner</td>\n",
       "      <td>...</td>\n",
       "      <td>never</td>\n",
       "      <td>1~3</td>\n",
       "      <td>4~8</td>\n",
       "      <td>1~3</td>\n",
       "      <td>1</td>\n",
       "      <td>1</td>\n",
       "      <td>0</td>\n",
       "      <td>0</td>\n",
       "      <td>1</td>\n",
       "      <td>0</td>\n",
       "    </tr>\n",
       "    <tr>\n",
       "      <th>12</th>\n",
       "      <td>No Urgent Place</td>\n",
       "      <td>Kid(s)</td>\n",
       "      <td>Sunny</td>\n",
       "      <td>55</td>\n",
       "      <td>6PM</td>\n",
       "      <td>Coffee House</td>\n",
       "      <td>2h</td>\n",
       "      <td>Female</td>\n",
       "      <td>21</td>\n",
       "      <td>Unmarried partner</td>\n",
       "      <td>...</td>\n",
       "      <td>never</td>\n",
       "      <td>1~3</td>\n",
       "      <td>4~8</td>\n",
       "      <td>1~3</td>\n",
       "      <td>1</td>\n",
       "      <td>1</td>\n",
       "      <td>0</td>\n",
       "      <td>0</td>\n",
       "      <td>1</td>\n",
       "      <td>1</td>\n",
       "    </tr>\n",
       "    <tr>\n",
       "      <th>15</th>\n",
       "      <td>Home</td>\n",
       "      <td>Alone</td>\n",
       "      <td>Sunny</td>\n",
       "      <td>80</td>\n",
       "      <td>6PM</td>\n",
       "      <td>Coffee House</td>\n",
       "      <td>2h</td>\n",
       "      <td>Female</td>\n",
       "      <td>21</td>\n",
       "      <td>Unmarried partner</td>\n",
       "      <td>...</td>\n",
       "      <td>never</td>\n",
       "      <td>1~3</td>\n",
       "      <td>4~8</td>\n",
       "      <td>1~3</td>\n",
       "      <td>1</td>\n",
       "      <td>0</td>\n",
       "      <td>0</td>\n",
       "      <td>0</td>\n",
       "      <td>1</td>\n",
       "      <td>0</td>\n",
       "    </tr>\n",
       "  </tbody>\n",
       "</table>\n",
       "<p>5 rows × 25 columns</p>\n",
       "</div>"
      ],
      "text/plain": [
       "        destination  passanger weather  temperature  time        coupon  \\\n",
       "1   No Urgent Place  Friend(s)   Sunny           80  10AM  Coffee House   \n",
       "3   No Urgent Place  Friend(s)   Sunny           80   2PM  Coffee House   \n",
       "4   No Urgent Place  Friend(s)   Sunny           80   2PM  Coffee House   \n",
       "12  No Urgent Place     Kid(s)   Sunny           55   6PM  Coffee House   \n",
       "15             Home      Alone   Sunny           80   6PM  Coffee House   \n",
       "\n",
       "   expiration  gender age      maritalStatus  ...  CoffeeHouse CarryAway  \\\n",
       "1          2h  Female  21  Unmarried partner  ...        never       1~3   \n",
       "3          2h  Female  21  Unmarried partner  ...        never       1~3   \n",
       "4          1d  Female  21  Unmarried partner  ...        never       1~3   \n",
       "12         2h  Female  21  Unmarried partner  ...        never       1~3   \n",
       "15         2h  Female  21  Unmarried partner  ...        never       1~3   \n",
       "\n",
       "   RestaurantLessThan20 Restaurant20To50 toCoupon_GEQ5min toCoupon_GEQ15min  \\\n",
       "1                   4~8              1~3                1                 0   \n",
       "3                   4~8              1~3                1                 1   \n",
       "4                   4~8              1~3                1                 1   \n",
       "12                  4~8              1~3                1                 1   \n",
       "15                  4~8              1~3                1                 0   \n",
       "\n",
       "   toCoupon_GEQ25min direction_same direction_opp  Y  \n",
       "1                  0              0             1  0  \n",
       "3                  0              0             1  0  \n",
       "4                  0              0             1  0  \n",
       "12                 0              0             1  1  \n",
       "15                 0              0             1  0  \n",
       "\n",
       "[5 rows x 25 columns]"
      ]
     },
     "execution_count": 258,
     "metadata": {},
     "output_type": "execute_result"
    }
   ],
   "source": [
    "#########################################################################################################################\n",
    "#  1- Create a new DataFrame that contains just the \"Coffee House\" coupons.\n",
    "#########################################################################################################################\n",
    "\n",
    "# Investigating the \"Coffee House\" Coupons\n",
    "# Now, we will lead you through an exploration of just the \"Coffee House\" related coupons.\n",
    "# Create a new DataFrame that contains just the \"Coffee House\" coupons.\n",
    "# Filtering the original DataFrame for rows with 'Coffee House' in the 'coupon' column\n",
    "\n",
    "CoffeeHouse_coupons_df = df[df['coupon'] == 'Coffee House']\n",
    "\n",
    "# Displaying the new DataFrame with only 'CoffeeHouse' coupons\n",
    "CoffeeHouse_coupons_df.head()"
   ]
  },
  {
   "cell_type": "code",
   "execution_count": 259,
   "metadata": {},
   "outputs": [
    {
     "name": "stdout",
     "output_type": "stream",
     "text": [
      "The proportion of CoffeeHouse accepted  coupons: 49.92 %\n"
     ]
    }
   ],
   "source": [
    "##########################################################################################################################\n",
    "# 2- What proportion of \"Coffee House\" coupons were accepted?\n",
    "##########################################################################################################################\n",
    "\n",
    "# Calculating the proportion of accepted 'CoffeeHouse' coupons\n",
    "proportion_accepted_m_coffee = CoffeeHouse_coupons_df['Y'].mean()*100\n",
    "\n",
    "# Displaying the proportion\n",
    "print(f\"The proportion of CoffeeHouse accepted  coupons: {proportion_accepted_m_coffee:.2f} %\")\n"
   ]
  },
  {
   "cell_type": "code",
   "execution_count": 247,
   "metadata": {},
   "outputs": [
    {
     "name": "stdout",
     "output_type": "stream",
     "text": [
      "Acceptance rate for drivers who went to a Coffee House 3 or fewer times a month:  56.01%\n",
      "Acceptance rate for drivers who went to a Coffee House more than 3 times a month:  67.50%\n",
      "Drivers who went to a CoffeeHouse more than 3 times a month have a higher acceptance rate.\n"
     ]
    }
   ],
   "source": [
    "#########################################################################################################################\n",
    "# 3- Compare the acceptance rate between those who went to a CoffeeHouse 3 or fewer times a month to those who went more.\n",
    "#########################################################################################################################\n",
    "\n",
    "# Assuming CoffeeHouse_coupons_df is your DataFrame containing the provided dataset\n",
    "# Filtering for drivers who went to a CoffeeHouse 3 or fewer times a month and those who went more than 3 times a month\n",
    "CoffeeHouse_condition_less_c = (CoffeeHouse_coupons_df['CoffeeHouse'] == 'less1') | (CoffeeHouse_coupons_df['CoffeeHouse'] == '1~3') # Assuming 'less1' and '1~3' represent 3 or fewer times a month\n",
    "CoffeeHouse_condition_more_c = (CoffeeHouse_coupons_df['CoffeeHouse'] == '4~8')   | (CoffeeHouse_coupons_df['CoffeeHouse'] == 'gt8')  # Assuming '4~8' and 'gt8' represent more than 3 times a month\n",
    "\n",
    "filtered_less_df_c = CoffeeHouse_coupons_df[CoffeeHouse_condition_less_c]\n",
    "filtered_more_df_c = CoffeeHouse_coupons_df[CoffeeHouse_condition_more_c]\n",
    "\n",
    "# Calculate acceptance rates for drivers who went to a CoffeeHouse 3 or fewer times a month and those who went more than 3 times a month\n",
    "acceptance_rate_less_c = filtered_less_df_c['Y'].mean()*100\n",
    "acceptance_rate_more_c = filtered_more_df_c['Y'].mean()*100\n",
    "\n",
    "# Display the acceptance rates for comparison\n",
    "print(f\"Acceptance rate for drivers who went to a Coffee House 3 or fewer times a month: {acceptance_rate_less_c: .2f}%\")\n",
    "print(f\"Acceptance rate for drivers who went to a Coffee House more than 3 times a month: {acceptance_rate_more_c: .2f}%\")\n",
    "\n",
    "# Compare the acceptance rates\n",
    "if acceptance_rate_less_c > acceptance_rate_more_c:\n",
    "    print(\"Drivers who went to a CoffeeHouse 3 or fewer times a month have a higher acceptance rate.\")\n",
    "elif acceptance_rate_less_c < acceptance_rate_more_c:\n",
    "    print(\"Drivers who went to a CoffeeHouse more than 3 times a month have a higher acceptance rate.\")\n",
    "else:\n",
    "    print(\"Acceptance rates are the same for both groups.\")\n",
    "\n",
    "    \n",
    "#bar_coupons_df[['Bar']].plot(kind='bar', color='skyblue')\n"
   ]
  },
  {
   "cell_type": "code",
   "execution_count": 248,
   "metadata": {},
   "outputs": [
    {
     "name": "stdout",
     "output_type": "stream",
     "text": [
      "Acceptance rate for drivers over 25 visiting a CoffeeHouse more than once a month:  63.84%\n",
      "Acceptance rate for all other drivers:  42.76%\n",
      "There is a difference in acceptance rates between the two groups.\n"
     ]
    }
   ],
   "source": [
    "###########################################################################################################################\n",
    "# 4- Compare the acceptance rate between drivers who go to a CoffeeHouse more than once a month \n",
    "#     and are over the age of 25 to the all others. Is there a difference?\n",
    "###########################################################################################################################\n",
    "\n",
    "# Assuming CoffeeHouse_coupons_df is your DataFrame containing the provided dataset\n",
    "# Filtering for drivers who go to a CoffeeHouse more than once a month and are over the age of 25\n",
    "age_condition_c = (\n",
    "    (CoffeeHouse_coupons_df['age'] == '26')    |\n",
    "    (CoffeeHouse_coupons_df['age'] == '31')    |\n",
    "    (CoffeeHouse_coupons_df['age'] == '36')    |\n",
    "    (CoffeeHouse_coupons_df['age'] == '41')    |\n",
    "    (CoffeeHouse_coupons_df['age'] == '46')    |\n",
    "    (CoffeeHouse_coupons_df['age'] == '50plus') \n",
    ")\n",
    "\n",
    "CoffeeHouse_frequency_condition_c = (\n",
    "    (CoffeeHouse_coupons_df['CoffeeHouse'] == '1~3') |\n",
    "    (CoffeeHouse_coupons_df['CoffeeHouse'] == '4~8') |\n",
    "    (CoffeeHouse_coupons_df['CoffeeHouse'] == 'gt8') \n",
    ")  # Assuming 'gt8', '4~8' and '1~3'  means more than once a month for visiting a CoffeeHouse\n",
    "\n",
    "# Subset of drivers who go to a CoffeeHouse more than once a month and are over the age of 25\n",
    "subset_older_drivers_c = CoffeeHouse_coupons_df[age_condition_c & CoffeeHouse_frequency_condition_c]\n",
    "\n",
    "# Subset of all other drivers\n",
    "subset_other_drivers_c = CoffeeHouse_coupons_df[~(age_condition_c & CoffeeHouse_frequency_condition_c)]\n",
    "\n",
    "# Calculate acceptance rates for both subsets\n",
    "acceptance_rate_older_drivers_c = subset_older_drivers_c['Y'].mean()*100\n",
    "acceptance_rate_other_drivers_c = subset_other_drivers_c['Y'].mean()*100\n",
    "\n",
    "# Compare the acceptance rates\n",
    "print(f\"Acceptance rate for drivers over 25 visiting a CoffeeHouse more than once a month: {acceptance_rate_older_drivers_c: .2f}%\")\n",
    "print(f\"Acceptance rate for all other drivers: {acceptance_rate_other_drivers_c: .2f}%\")\n",
    "\n",
    "# Check if there's a difference in acceptance rates\n",
    "if acceptance_rate_older_drivers_c != acceptance_rate_other_drivers_c:\n",
    "    print(\"There is a difference in acceptance rates between the two groups.\")\n",
    "else:\n",
    "    print(\"There is no difference in acceptance rates between the two groups.\")\n"
   ]
  },
  {
   "cell_type": "code",
   "execution_count": 260,
   "metadata": {},
   "outputs": [
    {
     "name": "stdout",
     "output_type": "stream",
     "text": [
      "Acceptance rate for drivers who go to CoffeeHouse more than once a month and had passengers that were not kids and had occupations other than farming, fishing, or forestry: 66.02 %\n"
     ]
    }
   ],
   "source": [
    "##########################################################################################################################\n",
    "# 5- Use the same process to compare the acceptance rate between drivers who go to CoffeeHouse more than once a month \n",
    "# and had passengers that were not a kid and had occupations other than farming, fishing, or forestry.\n",
    "###########################################################################################################################\n",
    "\n",
    "# Filtering the DataFrame based on the specified conditions\n",
    "filtered_df_CoffeeHouse_cc = CoffeeHouse_coupons_df[((CoffeeHouse_coupons_df['CoffeeHouse'] == 'gt8') | (CoffeeHouse_coupons_df['CoffeeHouse'] == '4~8')  | (CoffeeHouse_coupons_df['CoffeeHouse'] == '1~3')) & \n",
    "                 (CoffeeHouse_coupons_df['has_children'] != 'Kid(s)') & \n",
    "                 (~CoffeeHouse_coupons_df['occupation'].isin(['Farming, Fishing, or Forestry']))]\n",
    "\n",
    "\n",
    "# Calculate the acceptance rate for both groups\n",
    "acceptance_rate_CoffeeHouse_cc = filtered_df_CoffeeHouse_cc['Y'].mean()*100\n",
    "\n",
    "print(f\"Acceptance rate for drivers who go to CoffeeHouse more than once a month \"\n",
    "      f\"and had passengers that were not kids and had occupations other than \"\n",
    "      f\"farming, fishing, or forestry: {acceptance_rate_CoffeeHouse_cc:.2f} %\")\n"
   ]
  },
  {
   "cell_type": "code",
   "execution_count": 216,
   "metadata": {},
   "outputs": [],
   "source": [
    "###########################################################################################################################\n",
    "# 6- Compare the acceptance rates between:\n",
    "#    - Drivers who go to CoffeeHouse more than once a month, had passengers that were not a kid, and were not widowed OR\n",
    "#    - Drivers who go to CoffeeHouse more than once a month and are under the age of 30 OR\n",
    "#    - Drivers who go to cheap restaurants more than 4 times a month and income is less than 50K.\n",
    "###########################################################################################################################"
   ]
  },
  {
   "cell_type": "code",
   "execution_count": 262,
   "metadata": {},
   "outputs": [
    {
     "name": "stdout",
     "output_type": "stream",
     "text": [
      "Acceptance rate for drivers who go to CoffeeHouse > once a month, passengers not kids, and not widowed:  66.08%\n",
      "Acceptance rate for all other drivers:  36.51%\n",
      "Drivers who meet the specified conditions have a higher acceptance rate.\n"
     ]
    }
   ],
   "source": [
    "############################################################################################################################\n",
    "# Condition 1c: Drivers who go to CoffeeHouse more than once a month, had passengers that were not a kid, and were not widowed.\n",
    "############################################################################################################################\n",
    "\n",
    "# Assuming CoffeeHouse_coupons_df is your DataFrame containing the provided dataset\n",
    "# Filtering for drivers who go to CoffeeHouse more than once a month, had passengers that were not kids, and were not widowed\n",
    "\n",
    "CoffeeHouse_condition_1c_x = (CoffeeHouse_coupons_df['CoffeeHouse'] == 'gt8') | (CoffeeHouse_coupons_df['CoffeeHouse'] == '4~8') | (CoffeeHouse_coupons_df['CoffeeHouse'] == '1~3')  # Considering '1~3' 'gt8' and '4~8' as more than once a month for visiting a CoffeeHouse\n",
    "passenger_condition_1c_x = (CoffeeHouse_coupons_df['passanger'] != 'Kid(s)')\n",
    "marital_condition_1c_x = (CoffeeHouse_coupons_df['maritalStatus'] != 'Widowed')\n",
    "\n",
    "filtered_df_1c_x = CoffeeHouse_coupons_df[CoffeeHouse_condition_1c_x & passenger_condition_1c_x & marital_condition_1c_x]\n",
    "\n",
    "# Calculate acceptance rates for drivers who meet the specified conditions\n",
    "acceptance_rate_filtered_1c_x = filtered_df_1c_x['Y'].mean()*100\n",
    "\n",
    "# Calculate acceptance rates for all other drivers\n",
    "\n",
    "other_condition_1c_x = ~(CoffeeHouse_condition_1c_x & passenger_condition_1c_x & marital_condition_1c_x)\n",
    "other_drivers_df_1c_x = CoffeeHouse_coupons_df[other_condition_1c_x]\n",
    "acceptance_rate_other_1c_x = other_drivers_df_1c_x['Y'].mean()*100\n",
    "\n",
    "# Display the acceptance rates for comparison\n",
    "print(f\"Acceptance rate for drivers who go to CoffeeHouse > once a month, passengers not kids, and not widowed: {acceptance_rate_filtered_1c_x: .2f}%\")\n",
    "print(f\"Acceptance rate for all other drivers: {acceptance_rate_other_1c_x: .2f}%\")\n",
    "\n",
    "# Compare the acceptance rates\n",
    "if acceptance_rate_filtered_1c_x > acceptance_rate_other_1c_x:\n",
    "    print(\"Drivers who meet the specified conditions have a higher acceptance rate.\")\n",
    "elif acceptance_rate_filtered_1c_x < acceptance_rate_other_1c_x:\n",
    "    print(\"Drivers who meet the specified conditions have a lower acceptance rate.\")\n",
    "else:\n",
    "    print(\"Acceptance rates are the same for both groups.\")\n"
   ]
  },
  {
   "cell_type": "code",
   "execution_count": 268,
   "metadata": {},
   "outputs": [
    {
     "name": "stdout",
     "output_type": "stream",
     "text": [
      "Acceptance rate for drivers who go to CoffeeHouse > once a month and are under the age of 30:  82.79%\n",
      "Acceptance rate for all other drivers:  45.96%\n",
      "Drivers who go to CoffeeHouse > once a month and are under the age of 30 have a higher acceptance rate.\n"
     ]
    }
   ],
   "source": [
    "############################################################################################################################\n",
    "#Condition 2c: Drivers who go to CoffeeHouse more than once a month and are under the age of 30\n",
    "############################################################################################################################\n",
    "\n",
    "\n",
    "# Assuming CoffeeHouse_coupons_df is your DataFrame containing the provided dataset\n",
    "# Filtering for drivers who go to CoffeeHouse more than once a month and are under the age of 30\n",
    "\n",
    "CoffeeHouse_condition_2c_x = (CoffeeHouse_coupons_df['CoffeeHouse'] == 'gt8') | (CoffeeHouse_coupons_df['CoffeeHouse'] == '4~8') | (CoffeeHouse_coupons_df['CoffeeHouse'] == '1~3')  # Considering '1~3' 'gt8' and '4~8' as more than once a month for visiting a CoffeeHouse\n",
    "age_condition_2c_x = (CoffeeHouse_coupons_df['age'] == '21') | (CoffeeHouse_coupons_df['age'] == '26') | (CoffeeHouse_coupons_df['age'] == 'below21')\n",
    "exp_condition_2c_x = (CoffeeHouse_coupons_df['expiration'] == '1d')\n",
    "\n",
    "filtered_df_2c_x = CoffeeHouse_coupons_df[CoffeeHouse_condition_2c_x & age_condition_2c_x & exp_condition_2c_x]\n",
    "\n",
    "# Calculate acceptance rates for drivers who go to CoffeeHouse more than once a month and are under the age of 30\n",
    "acceptance_rate_filtered_2c_x = filtered_df_2c_x['Y'].mean()*100\n",
    "\n",
    "# Calculate acceptance rates for all other drivers\n",
    "other_condition_2c_x = ~(CoffeeHouse_condition_2c_x & age_condition_2c_x & exp_condition_2c_x)\n",
    "other_drivers_df_2c_x = CoffeeHouse_coupons_df[other_condition_2c_x]\n",
    "acceptance_rate_other_2c_x = other_drivers_df_2c_x['Y'].mean()*100\n",
    "\n",
    "# Display the acceptance rates for comparison\n",
    "print(f\"Acceptance rate for drivers who go to CoffeeHouse > once a month and are under the age of 30: {acceptance_rate_filtered_2c_x: .2f}%\")\n",
    "print(f\"Acceptance rate for all other drivers: {acceptance_rate_other_2c_x: .2f}%\")\n",
    "\n",
    "# Compare the acceptance rates\n",
    "if acceptance_rate_filtered_2c_x > acceptance_rate_other_2c_x:\n",
    "    print(\"Drivers who go to CoffeeHouse > once a month and are under the age of 30 have a higher acceptance rate.\")\n",
    "elif acceptance_rate_filtered_2c_x < acceptance_rate_other_2c_x:\n",
    "    print(\"Drivers who go to CoffeeHouse > once a month and are under the age of 30 have a lower acceptance rate.\")\n",
    "else:\n",
    "    print(\"Acceptance rates are the same for both groups.\")\n"
   ]
  },
  {
   "cell_type": "code",
   "execution_count": 269,
   "metadata": {},
   "outputs": [
    {
     "name": "stdout",
     "output_type": "stream",
     "text": [
      "Acceptance rate for drivers who go to cheap restaurants > 4 times a month and income < $50,000:  59.57%\n",
      "Acceptance rate for all other drivers:  49.34%\n",
      "Drivers who go to cheap restaurants > 4 times a month and have income < $50,000 have a higher acceptance rate.\n"
     ]
    }
   ],
   "source": [
    "############################################################################################################################\n",
    "#Condition 3c: Drivers who go to cheap restaurants more than 4 times a month and have an income less than 50K.\n",
    "############################################################################################################################\n",
    "\n",
    "\n",
    "# Assuming CoffeeHouse_coupons_df is your DataFrame containing the provided dataset\n",
    "# Filtering for individuals who go to cheap restaurants more than 4 times a month and have income less than $50,000\n",
    "restaurant_condition_3c_x = (CoffeeHouse_coupons_df['RestaurantLessThan20'] == '4~8') | (CoffeeHouse_coupons_df['RestaurantLessThan20'] == 'gt8')  # '4~8' and 'gt8' represent more than 4 times a month\n",
    "income_condition_3c_x = (CoffeeHouse_coupons_df['income'] == 'Less than $12500') | (CoffeeHouse_coupons_df['income'] == '$12500 - $24999') | (CoffeeHouse_coupons_df['income'] == '$25000 - $37499')\n",
    "exp_condition_3c_x = (CoffeeHouse_coupons_df['expiration'] == '1d')\n",
    "\n",
    "filtered_df_3c_x = CoffeeHouse_coupons_df[restaurant_condition_3c_x & income_condition_3c_x & exp_condition_3c]\n",
    "\n",
    "# Calculate acceptance rates for drivers who go to cheap restaurants more than 4 times a month and have income less than $50,000\n",
    "acceptance_rate_filtered_3c_x = filtered_df_3c_x['Y'].mean()*100\n",
    "\n",
    "# Calculate acceptance rates for all other drivers\n",
    "other_restaurant_conditions_3c_x = ~(restaurant_condition_3c_x & income_condition_3c_x & exp_condition_3c_x)\n",
    "other_drivers_df_3c_x = CoffeeHouse_coupons_df[other_restaurant_conditions_3c_x]\n",
    "acceptance_rate_other_3c_x = other_drivers_df_3c_x['Y'].mean()*100\n",
    "\n",
    "# Display the acceptance rates for comparison\n",
    "print(f\"Acceptance rate for drivers who go to cheap restaurants > 4 times a month and income < $50,000: {acceptance_rate_filtered_3c_x: .2f}%\")\n",
    "print(f\"Acceptance rate for all other drivers: {acceptance_rate_other_3c_x: .2f}%\")\n",
    "\n",
    "# Compare the acceptance rates\n",
    "if acceptance_rate_filtered_3c> acceptance_rate_other_3c_x:\n",
    "    print(\"Drivers who go to cheap restaurants > 4 times a month and have income < $50,000 have a higher acceptance rate.\")\n",
    "elif acceptance_rate_filtered_3c_x < acceptance_rate_other_3c_x:\n",
    "    print(\"Drivers who go to cheap restaurants > 4 times a month and have income < $50,000 have a lower acceptance rate.\")\n",
    "else:\n",
    "    print(\"Acceptance rates are the same for both groups.\")\n"
   ]
  },
  {
   "cell_type": "code",
   "execution_count": 270,
   "metadata": {},
   "outputs": [
    {
     "name": "stdout",
     "output_type": "stream",
     "text": [
      "Acceptance rate for drivers who go to CoffeeHouse more than once a month and had passengers that were not a kid and were not widowed: 66.08%\n",
      "\n",
      "Acceptance rate for drivers who go to CoffeeHouse more than once a month and are under the age of 30: 82.79%\n",
      "\n",
      "Acceptance rate for drivers who go to cheap restaurants more than 4 times a month and have an income less than 50K: 59.57%\n"
     ]
    }
   ],
   "source": [
    "#############################################################################################################\n",
    "# Displaying acceptance rates for each condition\n",
    "######################################################################################\n",
    "\n",
    "print(f\"Acceptance rate for drivers who go to CoffeeHouse more than once a month \"\n",
    "      f\"and had passengers that were not a kid \"\n",
    "      f\"and were not widowed: {acceptance_rate_filtered_1c_x:.2f}%\")\n",
    "\n",
    "print(f\"\\nAcceptance rate for drivers who go to CoffeeHouse more than once a month \"\n",
    "      f\"and are under the age of 30: {acceptance_rate_filtered_2c_x:.2f}%\")\n",
    "\n",
    "print(f\"\\nAcceptance rate for drivers who go to cheap restaurants more than 4 times a month \"\n",
    "      f\"and have an income less than 50K: {acceptance_rate_filtered_3c_x:.2f}%\")"
   ]
  },
  {
   "cell_type": "code",
   "execution_count": 221,
   "metadata": {},
   "outputs": [],
   "source": [
    "# 7-Based on these observations, what do you hypothesize about drivers who accepted the CoffeeHouse coupons?\n",
    "#As follow the observation:\n",
    "\n",
    "#1-Acceptance rate for drivers who go to CoffeeHouse more than once a month and had passengers that were not a kid and were not widowed: 66.08%\n",
    "\n",
    "#2-Acceptance rate for drivers who go to CoffeeHouse more than once a month and are under the age of 30: 82.79%\n",
    "\n",
    "#3 Acceptance rate for drivers who go to cheap restaurants more than 4 times a month and have an income less than 50K: 59.57%\n"
   ]
  },
  {
   "cell_type": "code",
   "execution_count": 222,
   "metadata": {},
   "outputs": [],
   "source": [
    "#This section 7 summary:\n",
    "# The drivers who accepted the CoffeeHouse coupons are most likely either:\n",
    "\n",
    "#- Drivers who go to CoffeeHouse more than once a month and are under the age of 30 OR\n",
    "#- Drivers who go to CoffeeHouse more than once a month and had passengers that were not a kid and were not widowed OR\n",
    "#- Drivers who go to cheap restaurants more than 4 times a month and have an income less than 50K\n",
    "\n"
   ]
  },
  {
   "cell_type": "code",
   "execution_count": 288,
   "metadata": {},
   "outputs": [],
   "source": [
    "###########################################################################################################\n",
    "# 8-  Let's explore more conbinations where  most likely drivers who accepted the CoffeeHouse coupons:\n",
    "###########################################################################################################"
   ]
  },
  {
   "cell_type": "code",
   "execution_count": 289,
   "metadata": {},
   "outputs": [
    {
     "data": {
      "text/html": [
       "<div>\n",
       "<style scoped>\n",
       "    .dataframe tbody tr th:only-of-type {\n",
       "        vertical-align: middle;\n",
       "    }\n",
       "\n",
       "    .dataframe tbody tr th {\n",
       "        vertical-align: top;\n",
       "    }\n",
       "\n",
       "    .dataframe thead th {\n",
       "        text-align: right;\n",
       "    }\n",
       "</style>\n",
       "<table border=\"1\" class=\"dataframe\">\n",
       "  <thead>\n",
       "    <tr style=\"text-align: right;\">\n",
       "      <th></th>\n",
       "      <th>destination</th>\n",
       "      <th>passanger</th>\n",
       "      <th>weather</th>\n",
       "      <th>temperature</th>\n",
       "      <th>time</th>\n",
       "      <th>coupon</th>\n",
       "      <th>expiration</th>\n",
       "      <th>gender</th>\n",
       "      <th>age</th>\n",
       "      <th>maritalStatus</th>\n",
       "      <th>...</th>\n",
       "      <th>CoffeeHouse</th>\n",
       "      <th>CarryAway</th>\n",
       "      <th>RestaurantLessThan20</th>\n",
       "      <th>Restaurant20To50</th>\n",
       "      <th>toCoupon_GEQ5min</th>\n",
       "      <th>toCoupon_GEQ15min</th>\n",
       "      <th>toCoupon_GEQ25min</th>\n",
       "      <th>direction_same</th>\n",
       "      <th>direction_opp</th>\n",
       "      <th>Y</th>\n",
       "    </tr>\n",
       "  </thead>\n",
       "  <tbody>\n",
       "    <tr>\n",
       "      <th>1</th>\n",
       "      <td>No Urgent Place</td>\n",
       "      <td>Friend(s)</td>\n",
       "      <td>Sunny</td>\n",
       "      <td>80</td>\n",
       "      <td>10AM</td>\n",
       "      <td>Coffee House</td>\n",
       "      <td>2h</td>\n",
       "      <td>Female</td>\n",
       "      <td>21</td>\n",
       "      <td>Unmarried partner</td>\n",
       "      <td>...</td>\n",
       "      <td>never</td>\n",
       "      <td>1~3</td>\n",
       "      <td>4~8</td>\n",
       "      <td>1~3</td>\n",
       "      <td>1</td>\n",
       "      <td>0</td>\n",
       "      <td>0</td>\n",
       "      <td>0</td>\n",
       "      <td>1</td>\n",
       "      <td>0</td>\n",
       "    </tr>\n",
       "    <tr>\n",
       "      <th>3</th>\n",
       "      <td>No Urgent Place</td>\n",
       "      <td>Friend(s)</td>\n",
       "      <td>Sunny</td>\n",
       "      <td>80</td>\n",
       "      <td>2PM</td>\n",
       "      <td>Coffee House</td>\n",
       "      <td>2h</td>\n",
       "      <td>Female</td>\n",
       "      <td>21</td>\n",
       "      <td>Unmarried partner</td>\n",
       "      <td>...</td>\n",
       "      <td>never</td>\n",
       "      <td>1~3</td>\n",
       "      <td>4~8</td>\n",
       "      <td>1~3</td>\n",
       "      <td>1</td>\n",
       "      <td>1</td>\n",
       "      <td>0</td>\n",
       "      <td>0</td>\n",
       "      <td>1</td>\n",
       "      <td>0</td>\n",
       "    </tr>\n",
       "    <tr>\n",
       "      <th>4</th>\n",
       "      <td>No Urgent Place</td>\n",
       "      <td>Friend(s)</td>\n",
       "      <td>Sunny</td>\n",
       "      <td>80</td>\n",
       "      <td>2PM</td>\n",
       "      <td>Coffee House</td>\n",
       "      <td>1d</td>\n",
       "      <td>Female</td>\n",
       "      <td>21</td>\n",
       "      <td>Unmarried partner</td>\n",
       "      <td>...</td>\n",
       "      <td>never</td>\n",
       "      <td>1~3</td>\n",
       "      <td>4~8</td>\n",
       "      <td>1~3</td>\n",
       "      <td>1</td>\n",
       "      <td>1</td>\n",
       "      <td>0</td>\n",
       "      <td>0</td>\n",
       "      <td>1</td>\n",
       "      <td>0</td>\n",
       "    </tr>\n",
       "    <tr>\n",
       "      <th>12</th>\n",
       "      <td>No Urgent Place</td>\n",
       "      <td>Kid(s)</td>\n",
       "      <td>Sunny</td>\n",
       "      <td>55</td>\n",
       "      <td>6PM</td>\n",
       "      <td>Coffee House</td>\n",
       "      <td>2h</td>\n",
       "      <td>Female</td>\n",
       "      <td>21</td>\n",
       "      <td>Unmarried partner</td>\n",
       "      <td>...</td>\n",
       "      <td>never</td>\n",
       "      <td>1~3</td>\n",
       "      <td>4~8</td>\n",
       "      <td>1~3</td>\n",
       "      <td>1</td>\n",
       "      <td>1</td>\n",
       "      <td>0</td>\n",
       "      <td>0</td>\n",
       "      <td>1</td>\n",
       "      <td>1</td>\n",
       "    </tr>\n",
       "    <tr>\n",
       "      <th>15</th>\n",
       "      <td>Home</td>\n",
       "      <td>Alone</td>\n",
       "      <td>Sunny</td>\n",
       "      <td>80</td>\n",
       "      <td>6PM</td>\n",
       "      <td>Coffee House</td>\n",
       "      <td>2h</td>\n",
       "      <td>Female</td>\n",
       "      <td>21</td>\n",
       "      <td>Unmarried partner</td>\n",
       "      <td>...</td>\n",
       "      <td>never</td>\n",
       "      <td>1~3</td>\n",
       "      <td>4~8</td>\n",
       "      <td>1~3</td>\n",
       "      <td>1</td>\n",
       "      <td>0</td>\n",
       "      <td>0</td>\n",
       "      <td>0</td>\n",
       "      <td>1</td>\n",
       "      <td>0</td>\n",
       "    </tr>\n",
       "  </tbody>\n",
       "</table>\n",
       "<p>5 rows × 25 columns</p>\n",
       "</div>"
      ],
      "text/plain": [
       "        destination  passanger weather  temperature  time        coupon  \\\n",
       "1   No Urgent Place  Friend(s)   Sunny           80  10AM  Coffee House   \n",
       "3   No Urgent Place  Friend(s)   Sunny           80   2PM  Coffee House   \n",
       "4   No Urgent Place  Friend(s)   Sunny           80   2PM  Coffee House   \n",
       "12  No Urgent Place     Kid(s)   Sunny           55   6PM  Coffee House   \n",
       "15             Home      Alone   Sunny           80   6PM  Coffee House   \n",
       "\n",
       "   expiration  gender age      maritalStatus  ...  CoffeeHouse CarryAway  \\\n",
       "1          2h  Female  21  Unmarried partner  ...        never       1~3   \n",
       "3          2h  Female  21  Unmarried partner  ...        never       1~3   \n",
       "4          1d  Female  21  Unmarried partner  ...        never       1~3   \n",
       "12         2h  Female  21  Unmarried partner  ...        never       1~3   \n",
       "15         2h  Female  21  Unmarried partner  ...        never       1~3   \n",
       "\n",
       "   RestaurantLessThan20 Restaurant20To50 toCoupon_GEQ5min toCoupon_GEQ15min  \\\n",
       "1                   4~8              1~3                1                 0   \n",
       "3                   4~8              1~3                1                 1   \n",
       "4                   4~8              1~3                1                 1   \n",
       "12                  4~8              1~3                1                 1   \n",
       "15                  4~8              1~3                1                 0   \n",
       "\n",
       "   toCoupon_GEQ25min direction_same direction_opp  Y  \n",
       "1                  0              0             1  0  \n",
       "3                  0              0             1  0  \n",
       "4                  0              0             1  0  \n",
       "12                 0              0             1  1  \n",
       "15                 0              0             1  0  \n",
       "\n",
       "[5 rows x 25 columns]"
      ]
     },
     "execution_count": 289,
     "metadata": {},
     "output_type": "execute_result"
    }
   ],
   "source": [
    "CoffeeHouse_coupons_df.head()"
   ]
  },
  {
   "cell_type": "code",
   "execution_count": 290,
   "metadata": {},
   "outputs": [
    {
     "data": {
      "image/png": "[encoded data removed]",
      "text/plain": [
       "<Figure size 1500x1000 with 6 Axes>"
      ]
     },
     "metadata": {},
     "output_type": "display_data"
    }
   ],
   "source": [
    "\n",
    "import seaborn as sns\n",
    "import matplotlib.pyplot as plt\n",
    "\n",
    "# Assuming CoffeeHouse_coupons_df is your DataFrame\n",
    "\n",
    "# Filter the DataFrame to selected columns\n",
    "selected_columns = ['destination', 'passanger', 'temperature', 'time', 'gender', 'age']\n",
    "filtered_df = CoffeeHouse_coupons_df[selected_columns]\n",
    "\n",
    "# Create subplots for multiple countplots\n",
    "fig, axes = plt.subplots(nrows=2, ncols=3, figsize=(15, 10))\n",
    "\n",
    "# Flatten the axes for easier iteration\n",
    "axes = axes.flatten()\n",
    "\n",
    "# Loop through selected columns and create countplots\n",
    "for i, column in enumerate(selected_columns):\n",
    "    sns.countplot(x=column, data=filtered_df, ax=axes[i])\n",
    "    axes[i].set_title(f'Value Counts of {column.capitalize()}')\n",
    "\n",
    "# Adjust layout\n",
    "plt.tight_layout()\n",
    "plt.show()"
   ]
  },
  {
   "cell_type": "code",
   "execution_count": 291,
   "metadata": {},
   "outputs": [],
   "source": [
    "#8 -Based on above graph observations, we can hypothesize about drivers who accepted the CoffeeHouse coupons\n",
    "# by doing a combintaion of the highest values of the columns \n",
    "# columns(['destination', 'passanger', 'temperature', 'time', 'gender', 'age']) occurances:\n",
    "# let's study the following:\n",
    "\n",
    "\n",
    "#1- Acceptance rate for drivers who go to CoffeeHouse at least less than 1 or more, less than 21, and single \n",
    "#2- Acceptance rate for drivers who go to CoffeeHouse at least once or more, go at 10am  and income between 59K to 62.5K\n",
    "#3- Acceptance rate for femsle drivers who has  children with\n",
    "#   occupation: Construction & Extraction / Architecture & Engineering / Protective Service /Healthcare Support \n",
    "\n"
   ]
  },
  {
   "cell_type": "code",
   "execution_count": 292,
   "metadata": {},
   "outputs": [
    {
     "name": "stdout",
     "output_type": "stream",
     "text": [
      "Acceptance rate for drivers who go to CoffeeHouse more than once a month, less than 21 and single:  74.16%\n"
     ]
    }
   ],
   "source": [
    "###################################################################################################################\n",
    "#8-1- Acceptance rate for drivers who go to CoffeeHouse more than once a month, less than 21 and single\n",
    "################################################################################################################\n",
    "\n",
    "# Filtering the dataset based on the given criteria\n",
    "filtered_df_q1_y = CoffeeHouse_coupons_df[(CoffeeHouse_coupons_df['CoffeeHouse'] != 'never') & \n",
    "                                          (CoffeeHouse_coupons_df['age'] =='below21') & \n",
    "                                          (CoffeeHouse_coupons_df['maritalStatus'] == 'Single')]\n",
    "\n",
    "#### Calculating the acceptance rate\n",
    "accepted_rate_m_q1_y = filtered_df_q1_y ['Y'].mean()*100\n",
    "\n",
    "print(f\"Acceptance rate for drivers who go to CoffeeHouse more than once a month, less than 21 and single: {accepted_rate_m_q1_y: .2f}%\")"
   ]
  },
  {
   "cell_type": "code",
   "execution_count": 293,
   "metadata": {},
   "outputs": [
    {
     "name": "stdout",
     "output_type": "stream",
     "text": [
      " Acceptance rate for drivers who go to CoffeeHouse at least once or more, go at 10am  and income between 59K to 62.5K: 80.00%\n"
     ]
    }
   ],
   "source": [
    "###################################################################################################################\n",
    "#8/ 2- Acceptance rate for drivers who go to CoffeeHouse at least once or more, go at 10am  and income between 59K to 62.5K\n",
    "###################################################################################################################\n",
    "\n",
    "# Filtering the dataset based on the given criteria\n",
    "\n",
    "conditon_1t = (CoffeeHouse_coupons_df['CoffeeHouse'] != 'never')\n",
    "conditon_2t = (CoffeeHouse_coupons_df['time']== '10AM' )\n",
    "conditon_3t = (CoffeeHouse_coupons_df['income'] == '$50000 - $62499')\n",
    "                                         \n",
    "filtered_df_q2_y= CoffeeHouse_coupons_df[conditon_1t & conditon_3t & conditon_2t]\n",
    "\n",
    "# # Calculating the acceptance rate\n",
    "acceptance_rate_q2_y = filtered_df_q2_y['Y'].mean()*100\n",
    "\n",
    "print(f\" Acceptance rate for drivers who go to CoffeeHouse at least once or more, go at 10am  and income between 59K to 62.5K: {acceptance_rate_q2_y:.2f}%\")"
   ]
  },
  {
   "cell_type": "code",
   "execution_count": 285,
   "metadata": {},
   "outputs": [
    {
     "name": "stdout",
     "output_type": "stream",
     "text": [
      "Acceptance rate for female drivers who has children with\n",
      "occupation: Construction & Extraction OR Architecture & Engineering OR Protective Service OR Healthcare Support: 75.00%\n"
     ]
    }
   ],
   "source": [
    "############################################################################################################################\n",
    "# 8/ 3- Acceptance rate for femsle drivers who has  children with\n",
    "# occupation: Construction & Extraction / Architecture & Engineering / Protective Service /Healthcare Support  \n",
    "############################################################################################################################\n",
    "\n",
    "# Filtering the dataset based on the given criteria\n",
    "selected_occupations_q3 = ['Construction & Extraction', 'Architecture & Engineering', 'Protective Service', 'Healthcare Support']\n",
    "\n",
    "condition_1tr = (CoffeeHouse_coupons_df['has_children'] == 1)\n",
    "condition_2tr = CoffeeHouse_coupons_df['occupation'].isin(selected_occupations_q3)\n",
    "condition_3tr = (CoffeeHouse_coupons_df['gender'] == 'Female')\n",
    "\n",
    "filtered_df2_q3_y = CoffeeHouse_coupons_df[condition_2tr & condition_1tr & condition_3tr]\n",
    "\n",
    "# Counting the number of 'Y' values (indicating acceptance)\n",
    "acceptance_rate_3_q3_y = filtered_df2_q3_y['Y'].mean()*100\n",
    "\n",
    "print(f\"Acceptance rate for female drivers who has children with\")\n",
    "print(f\"occupation: Construction & Extraction OR Architecture & Engineering OR Protective Service OR Healthcare Support: {acceptance_rate_3_q3:.2f}%\")"
   ]
  },
  {
   "cell_type": "code",
   "execution_count": 294,
   "metadata": {},
   "outputs": [
    {
     "name": "stdout",
     "output_type": "stream",
     "text": [
      "Summary of the section 8 self study:\n",
      "1- Acceptance rate for drivers who go to CoffeeHouse more than once a month, less than 21 and single:  74.16%\n",
      "2- Acceptance rate for drivers who go to CoffeeHouse at least once or more, go at 10am  and income between 59K to 62.5K: 80.00%\n",
      "3- Acceptance rate for female drivers who has children with\n",
      "occupation: Construction & Extraction OR Architecture & Engineering OR Protective Service OR Healthcare Support: 75.00%\n"
     ]
    }
   ],
   "source": [
    "\n",
    "print(\"Summary of the section 8 self study:\")\n",
    "print(f\"1- Acceptance rate for drivers who go to CoffeeHouse more than once a month, less than 21 and single: {accepted_rate_m_q1_y: .2f}%\")\n",
    "print(f\"2- Acceptance rate for drivers who go to CoffeeHouse at least once or more, go at 10am  and income between 59K to 62.5K: {acceptance_rate_q2_y:.2f}%\")\n",
    "print(f\"3- Acceptance rate for female drivers who has children with\")\n",
    "print(f\"occupation: Construction & Extraction OR Architecture & Engineering OR Protective Service OR Healthcare Support: {acceptance_rate_3_q3:.2f}%\")"
   ]
  },
  {
   "cell_type": "code",
   "execution_count": 295,
   "metadata": {},
   "outputs": [],
   "source": [
    "#This section 8 summary:\n",
    "# The drivers who accepted the CoffeeHouse coupons are most likely either:\n",
    "\n",
    "#1- Drivers who go to CoffeeHouse more than once a month, less than 21 and single \n",
    "#2- Drivers who go to CoffeeHouse at least once or more, go at 10am  and income between 59K to 62.5K\n",
    "#3- Female drivers who has children with\n",
    "#   occupation: Construction & Extraction OR Architecture & Engineering OR Protective Service OR Healthcare Support\n"
   ]
  },
  {
   "cell_type": "code",
   "execution_count": null,
   "metadata": {},
   "outputs": [],
   "source": [
    "###########################################################################################################################\n",
    "#  Summary of the Independent Investigation of the CoffeeHouse coupons\n",
    "#  Why: the Coffee House Coupons has the biggest share of the coupons. \n",
    "###########################################################################################################################\n",
    "\n",
    "# The sub-section 1 summary:\n",
    "# CoffeeHouse_coupons_df = df[df['coupon'] == 'Coffee House']\n",
    "#\n",
    "#-------------------------------------------------------------------------------------------------------------------\n",
    "# The sub-section 2 summary:\n",
    "# The proportion of CoffeeHouse accepted  coupons: 49.92 %\n",
    "#\n",
    "#-------------------------------------------------------------------------------------------------------------------\n",
    "# The sub-section 3 summary:\n",
    "# Acceptance rate for drivers who went to a Coffee House 3 or fewer times a month:  56.01%\n",
    "# Acceptance rate for drivers who went to a Coffee House more than 3 times a month:  67.50%\n",
    "# Drivers who went to a CoffeeHouse more than 3 times a month have a higher acceptance rate.\n",
    "#\n",
    "#-------------------------------------------------------------------------------------------------------------------\n",
    "# The sub-section 4 summary:\n",
    "# Acceptance rate for drivers over 25 visiting a CoffeeHouse more than once a month:  63.84%\n",
    "#\n",
    "#-------------------------------------------------------------------------------------------------------------------\n",
    "# The sub-section 5 summary:\n",
    "# Acceptance rate for drivers who go to CoffeeHouse more than once a month and had passengers that were not kids \n",
    "# and had occupations other than farming, fishing, or forestry: 66.02 %\n",
    "#\n",
    "#-------------------------------------------------------------------------------------------------------------------\n",
    "# The sub-section 6 & 7 summary:\n",
    "# The drivers who accepted the CoffeeHouse coupons are most likely either (for Acceptance rate more than 50%):\n",
    "#   - Drivers who go to CoffeeHouse more than once a month and are under the age of 30 OR\n",
    "#   - Drivers who go to CoffeeHouse more than once a month and had passengers that were not a kid and were not widowed OR\n",
    "#   - Drivers who go to cheap restaurants more than 4 times a month and have an income less than 50K\n",
    "\n",
    "#-------------------------------------------------------------------------------------------------------------------\n",
    "# The sub-section 8 summary:\n",
    "# The drivers who accepted the CoffeeHouse coupons are most likely either (for Acceptance rate more than 50%):\n",
    "#    - Drivers who go to CoffeeHouse more than once a month, less than 21 and single OR\n",
    "#    - Drivers who go to CoffeeHouse at least once or more, go at 10am  and income between 59K to 62.5K OR\n",
    "#    - Female drivers who has children with\n",
    "#      occupation: Construction & Extraction OR Architecture & Engineering OR Protective Service OR Healthcare Support\n"
   ]
  },
  {
   "cell_type": "code",
   "execution_count": null,
   "metadata": {},
   "outputs": [],
   "source": [
    "###########################################################################################################################\n",
    "#  Answer to the question: \n",
    "#  Based on the above observations, what do you hypothesize about drivers who accepted the Coffee House coupons? \n",
    "#\n",
    "###########################################################################################################################\n",
    "#  \n",
    "#  Based on these observations, The drivers who accepted the Coffee House coupons are most likely either (for Acceptance rate more than 50%):\n",
    "#   - Drivers who go to CoffeeHouse more than once a month, less than 21 and single (Acceptance rate of 74.16%), OR\n",
    "#   - Drivers who go to CoffeeHouse at least once or more, go at 10am  and income between 59K to 62.5K (Acceptance rate of 80 %), OR\n",
    "#   - Female drivers who has children with occupation are Construction & Extraction OR Architecture & Engineering\n",
    "#      OR Protective Service OR Healthcare Support (Acceptance rate of 75.00 %), OR\n",
    "#   - Drivers who go to CoffeeHouse more than once a month and are under the age of 30 (Acceptance rate of 82.79%), OR\n",
    "#   - Drivers who go to CoffeeHouse more than once a month and had passengers that were not a kid and were not widowed (Acceptance rate of 66.08%), OR\n",
    "#   - Drivers who go to cheap restaurants more than 4 times a month and have an income less than 50K (Acceptance rate of 59.57%), OR\n",
    "#   - Drivers who go to CoffeeHouse more than once a month and had passengers that were not kids \n",
    "#     and had occupations other than farming, fishing, or forestry (Acceptance rate of 66.02 %), OR\n",
    "#   - Drivers over 25 visiting a CoffeeHouse more than once a month (Acceptance rate of 63.84%), OR\n",
    "#   - Drivers who went to a Coffee House more than 3 times a month (Acceptance rate of 67.50%)\n",
    "\n",
    "#\n",
    "#########################################################################################################################\n"
   ]
  }
 ],
 "metadata": {
  "kernelspec": {
   "display_name": "Python 3 (ipykernel)",
   "language": "python",
   "name": "python3"
  },
  "language_info": {
   "codemirror_mode": {
    "name": "ipython",
    "version": 3
   },
   "file_extension": ".py",
   "mimetype": "text/x-python",
   "name": "python",
   "nbconvert_exporter": "python",
   "pygments_lexer": "ipython3",
   "version": "3.11.5"
  },
  "widgets": {
   "application/vnd.jupyter.widget-state+json": {
    "state": {},
    "version_major": 2,
    "version_minor": 0
   }
  }
 },
 "nbformat": 4,
 "nbformat_minor": 4
}
